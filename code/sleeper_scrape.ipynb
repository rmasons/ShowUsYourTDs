{
 "cells": [
  {
   "cell_type": "code",
   "execution_count": 116,
   "metadata": {},
   "outputs": [],
   "source": [
    "import requests, json, os, dotenv, openpyxl\n",
    "import pandas as pd\n",
    "import numpy as np\n",
    "import pandasql as ps\n",
    "from pandasql import sqldf"
   ]
  },
  {
   "cell_type": "code",
   "execution_count": 117,
   "metadata": {},
   "outputs": [
    {
     "data": {
      "text/plain": [
       "True"
      ]
     },
     "execution_count": 117,
     "metadata": {},
     "output_type": "execute_result"
    }
   ],
   "source": [
    "dotenv.load_dotenv('../ref/.env')"
   ]
  },
  {
   "cell_type": "code",
   "execution_count": 118,
   "metadata": {},
   "outputs": [],
   "source": [
    "league_id = os.environ.get('tds')"
   ]
  },
  {
   "cell_type": "code",
   "execution_count": 7,
   "metadata": {},
   "outputs": [],
   "source": [
    "def getNflState():\n",
    "    nfl_url = 'https://api.sleeper.app/v1/state/nfl'\n",
    "    r = requests.get(nfl_url)\n",
    "    if r.status_code == 200:\n",
    "        nfl_state = r.json()\n",
    "        current_week = nfl_state['week']\n",
    "        current_season = nfl_state['season']\n",
    "        week_type = nfl_state['season_type']\n",
    "        return current_week, current_season, week_type"
   ]
  },
  {
   "cell_type": "code",
   "execution_count": 8,
   "metadata": {},
   "outputs": [],
   "source": [
    "def getLeagueInfo(league_id: str):\n",
    "    league_url = f'https://api.sleeper.app/v1/league/{league_id}'\n",
    "    r = requests.get(league_url)\n",
    "    if r.status_code == 200:\n",
    "        league_info = r.json()\n",
    "        leagues = {}\n",
    "        leagues[league_info['league_id']] = {\n",
    "            'total_teams' : league_info['total_rosters'],\n",
    "            'roster_poositions' : league_info['roster_positions'],\n",
    "            'draft_id' : league_info['draft_id'],\n",
    "            'season' : league_info['season'],\n",
    "            'league_name' : league_info['name'],\n",
    "            'playoff_start_wk' : league_info['settings']['playoff_week_start'],\n",
    "            'num_playoff_teams' : league_info['settings']['playoff_teams'],\n",
    "            'faab_budget' : league_info['settings']['waiver_budget']\n",
    "            }\n",
    "        return leagues\n",
    "    else:\n",
    "        return None"
   ]
  },
  {
   "cell_type": "code",
   "execution_count": 4,
   "metadata": {},
   "outputs": [],
   "source": [
    "def getManagers(league_id: str):\n",
    "    managers_url = f'https://api.sleeper.app/v1/league/{league_id}/users'\n",
    "    managers_resp = requests.get(managers_url)\n",
    "    if managers_resp.status_code == 200:\n",
    "        managers_list = managers_resp.json()\n",
    "        return pd.DataFrame([(manager['user_id'], manager['display_name']) for manager in managers_list], columns=['manager_id', 'display_name'])\n",
    "    else:\n",
    "        return None"
   ]
  },
  {
   "cell_type": "code",
   "execution_count": 5,
   "metadata": {},
   "outputs": [],
   "source": [
    "managers_df = getManagers(league_id)"
   ]
  },
  {
   "cell_type": "code",
   "execution_count": 6,
   "metadata": {},
   "outputs": [],
   "source": [
    "def getCurrentRosters(league_id: str):\n",
    "    rosters_url = f'https://api.sleeper.app/v1/league/{league_id}/rosters'\n",
    "    rosters_resp = requests.get(rosters_url)\n",
    "    if rosters_resp.status_code == 200:\n",
    "        rosters_list = rosters_resp.json()\n",
    "        return pd.DataFrame([(roster['owner_id'], roster['players']) for roster in rosters_list], columns=['manager_id', 'players']).explode('players')\n",
    "    else:\n",
    "        return None\n"
   ]
  },
  {
   "cell_type": "code",
   "execution_count": 7,
   "metadata": {},
   "outputs": [],
   "source": [
    "curr_rosters_df = getCurrentRosters(league_id)"
   ]
  },
  {
   "cell_type": "code",
   "execution_count": 14,
   "metadata": {},
   "outputs": [],
   "source": [
    "def getRosters(league_id: str):\n",
    "    rosters_url = f'https://api.sleeper.app/v1/league/{league_id}/rosters'\n",
    "    r = requests.get(rosters_url)\n",
    "    if r.status_code == 200:\n",
    "        rosters_resp = r.json()\n",
    "        rosters = []\n",
    "        for roster in rosters_resp:\n",
    "            settings = roster['settings']\n",
    "            metadata = roster['metadata']\n",
    "            owner_id = roster['owner_id']\n",
    "            mngr_req = requests.get(f'https://api.sleeper.app/v1/user/{owner_id}')\n",
    "            username = None\n",
    "            if mngr_req.status_code == 200: username = mngr_req.json()['username']\n",
    "            rosters.append([roster['roster_id'], owner_id, roster_manager[str(roster['roster_id'])], metadata['streak'], metadata['record'], settings['wins'], settings['losses'], settings['ties'], settings['waiver_budget_used']])\n",
    "        rosters_df = pd.DataFrame(rosters, columns=['roster_id', 'owner_id', 'owner_name', 'current_streak', 'record', 'wins', 'losses', 'ties', 'faab_used'])\n",
    "        rosters = {}\n",
    "        for roster in rosters_resp:\n",
    "            rosters[roster['owner_id']] = {\n",
    "                'wins' : roster['settings']['wins'],\n",
    "                'losses' : roster['settings']['losses'],\n",
    "                'ties' : roster['settings']['ties'],\n",
    "                'pts_for' : f'{roster['settings']['fpts']}.{roster['settings']['fpts_decimal']}',\n",
    "                'pts_against' : f'{roster['settings']['fpts_against']}.{roster['settings']['fpts_against_decimal']}',\n",
    "                'total_moves' : roster['settings']['total_moves'],\n",
    "                'starters' : roster['starters'],\n",
    "                'ir' : roster['reserve'],\n",
    "                'bench' : list(set(roster['players']) - set(roster['starters'] if roster['starters'] is not None else []) - set(roster['reserve'] if roster['reserve'] is not None else []))\n",
    "                }\n",
    "        return rosters, rosters_df\n",
    "    else:\n",
    "        return None"
   ]
  },
  {
   "cell_type": "code",
   "execution_count": 15,
   "metadata": {},
   "outputs": [],
   "source": [
    "def getTransactions(league_id: str, week: str):\n",
    "    transaction_url = f'https://api.sleeper.app/v1/league/{league_id}/transactions/{week}'\n",
    "    r = requests.get(transaction_url)\n",
    "    statuses = []\n",
    "    if r.status_code == 200:\n",
    "        transactions = r.json()\n",
    "        succesful_transactions = []\n",
    "        for transaction in transactions:\n",
    "            if transaction['status'] == 'complete':\n",
    "                if transaction['type'] == 'waiver':\n",
    "                    pass\n",
    "                elif transaction['type'] == 'free_agent':\n",
    "                    pass\n",
    "                elif transaction['type'] == 'trade':\n",
    "                    pass\n",
    "                succesful_transactions.append(transaction)\n",
    "        return succesful_transactions\n",
    "    else:\n",
    "        return None"
   ]
  },
  {
   "cell_type": "code",
   "execution_count": 16,
   "metadata": {},
   "outputs": [],
   "source": [
    "def getMatchups(league_id: str, week: str):\n",
    "    matchup_url = f'https://api.sleeper.app/v1/league/{league_id}/matchups/{week}'\n",
    "    r=requests.get(matchup_url)\n",
    "    matchup_list = []\n",
    "    players_list = []\n",
    "    if r.status_code == 200:\n",
    "        matchups = r.json()\n",
    "        for team in matchups:\n",
    "            roster_id = team['roster_id']\n",
    "            for player in team['players_points']:\n",
    "                players_list.append([player, roster_id, int(week), True if player in team['starters'] else False, team['players_points'][player]])\n",
    "            matchup_list.append([team['matchup_id'], int(week), roster_id])\n",
    "    \n",
    "    return players_list, matchup_list\n",
    "        "
   ]
  },
  {
   "cell_type": "code",
   "execution_count": 11,
   "metadata": {},
   "outputs": [
    {
     "name": "stdout",
     "output_type": "stream",
     "text": [
      "[{'draft_id': '1048281947404955649', 'draft_slot': 1, 'is_keeper': None, 'metadata': {'first_name': 'Kyren', 'injury_status': '', 'last_name': 'Williams', 'news_updated': '1724807459855', 'number': '23', 'player_id': '8150', 'position': 'RB', 'sport': 'nfl', 'status': 'Active', 'team': 'LAR', 'team_abbr': '', 'team_changed_at': '', 'years_exp': '2'}, 'pick_no': 1, 'picked_by': '988914274368020480', 'player_id': '8150', 'reactions': None, 'roster_id': 4, 'round': 1}, {'draft_id': '1048281947404955649', 'draft_slot': 2, 'is_keeper': None, 'metadata': {'first_name': 'Marvin', 'injury_status': '', 'last_name': 'Harrison', 'news_updated': '1724636137545', 'number': '18', 'player_id': '11628', 'position': 'WR', 'sport': 'nfl', 'status': 'Active', 'team': 'ARI', 'team_abbr': '', 'team_changed_at': '', 'years_exp': '0'}, 'pick_no': 2, 'picked_by': '992614081347579904', 'player_id': '11628', 'reactions': None, 'roster_id': 10, 'round': 1}, {'draft_id': '1048281947404955649', 'draft_slot': 3, 'is_keeper': None, 'metadata': {'first_name': 'Travis', 'injury_status': '', 'last_name': 'Etienne', 'news_updated': '1724509520552', 'number': '1', 'player_id': '7543', 'position': 'RB', 'sport': 'nfl', 'status': 'Active', 'team': 'JAX', 'team_abbr': '', 'team_changed_at': '', 'years_exp': '3'}, 'pick_no': 3, 'picked_by': '990773448974618624', 'player_id': '7543', 'reactions': None, 'roster_id': 9, 'round': 1}, {'draft_id': '1048281947404955649', 'draft_slot': 4, 'is_keeper': None, 'metadata': {'first_name': 'Isiah', 'injury_status': '', 'last_name': 'Pacheco', 'news_updated': '1724363154780', 'number': '10', 'player_id': '8205', 'position': 'RB', 'sport': 'nfl', 'status': 'Active', 'team': 'KC', 'team_abbr': '', 'team_changed_at': '', 'years_exp': '2'}, 'pick_no': 4, 'picked_by': '988913995279036416', 'player_id': '8205', 'reactions': None, 'roster_id': 2, 'round': 1}, {'draft_id': '1048281947404955649', 'draft_slot': 5, 'is_keeper': None, 'metadata': {'first_name': 'Cooper', 'injury_status': '', 'last_name': 'Kupp', 'news_updated': '1724541924592', 'number': '10', 'player_id': '4039', 'position': 'WR', 'sport': 'nfl', 'status': 'Active', 'team': 'LAR', 'team_abbr': '', 'team_changed_at': '', 'years_exp': '7'}, 'pick_no': 5, 'picked_by': '985202843810332672', 'player_id': '4039', 'reactions': None, 'roster_id': 3, 'round': 1}, {'draft_id': '1048281947404955649', 'draft_slot': 6, 'is_keeper': None, 'metadata': {'first_name': 'Chris', 'injury_status': '', 'last_name': 'Olave', 'news_updated': '1724083848230', 'number': '12', 'player_id': '8144', 'position': 'WR', 'sport': 'nfl', 'status': 'Active', 'team': 'NO', 'team_abbr': '', 'team_changed_at': '', 'years_exp': '2'}, 'pick_no': 6, 'picked_by': '1000454257784463360', 'player_id': '8144', 'reactions': None, 'roster_id': 12, 'round': 1}, {'draft_id': '1048281947404955649', 'draft_slot': 7, 'is_keeper': None, 'metadata': {'first_name': 'Derrick', 'injury_status': '', 'last_name': 'Henry', 'news_updated': '1724246131213', 'number': '22', 'player_id': '3198', 'position': 'RB', 'sport': 'nfl', 'status': 'Active', 'team': 'BAL', 'team_abbr': '', 'team_changed_at': '', 'years_exp': '8'}, 'pick_no': 7, 'picked_by': '862460871958462464', 'player_id': '3198', 'reactions': None, 'roster_id': 11, 'round': 1}, {'draft_id': '1048281947404955649', 'draft_slot': 8, 'is_keeper': None, 'metadata': {'first_name': 'A.J.', 'injury_status': '', 'last_name': 'Brown', 'news_updated': '1724343042647', 'number': '11', 'player_id': '5859', 'position': 'WR', 'sport': 'nfl', 'status': 'Active', 'team': 'PHI', 'team_abbr': '', 'team_changed_at': '', 'years_exp': '5'}, 'pick_no': 8, 'picked_by': '988915756895113216', 'player_id': '5859', 'reactions': None, 'roster_id': 5, 'round': 1}, {'draft_id': '1048281947404955649', 'draft_slot': 9, 'is_keeper': None, 'metadata': {'first_name': 'Travis', 'injury_status': '', 'last_name': 'Kelce', 'news_updated': '1724361655957', 'number': '87', 'player_id': '1466', 'position': 'TE', 'sport': 'nfl', 'status': 'Active', 'team': 'KC', 'team_abbr': '', 'team_changed_at': '', 'years_exp': '11'}, 'pick_no': 9, 'picked_by': '865123387251519488', 'player_id': '1466', 'reactions': None, 'roster_id': 8, 'round': 1}, {'draft_id': '1048281947404955649', 'draft_slot': 10, 'is_keeper': None, 'metadata': {'first_name': 'Josh', 'injury_status': '', 'last_name': 'Jacobs', 'news_updated': '1724544624908', 'number': '8', 'player_id': '5850', 'position': 'RB', 'sport': 'nfl', 'status': 'Active', 'team': 'GB', 'team_abbr': '', 'team_changed_at': '', 'years_exp': '5'}, 'pick_no': 10, 'picked_by': '870168774161178624', 'player_id': '5850', 'reactions': None, 'roster_id': 7, 'round': 1}, {'draft_id': '1048281947404955649', 'draft_slot': 11, 'is_keeper': None, 'metadata': {'first_name': 'Rachaad', 'injury_status': '', 'last_name': 'White', 'news_updated': '1724511320753', 'number': '1', 'player_id': '8136', 'position': 'RB', 'sport': 'nfl', 'status': 'Active', 'team': 'TB', 'team_abbr': '', 'team_changed_at': '', 'years_exp': '2'}, 'pick_no': 11, 'picked_by': '855933294594879488', 'player_id': '8136', 'reactions': None, 'roster_id': 1, 'round': 1}, {'draft_id': '1048281947404955649', 'draft_slot': 12, 'is_keeper': None, 'metadata': {'first_name': 'Davante', 'injury_status': 'Questionable', 'last_name': 'Adams', 'news_updated': '1724860563197', 'number': '17', 'player_id': '2133', 'position': 'WR', 'sport': 'nfl', 'status': 'Active', 'team': 'LV', 'team_abbr': '', 'team_changed_at': '', 'years_exp': '10'}, 'pick_no': 12, 'picked_by': '988915873790459904', 'player_id': '2133', 'reactions': None, 'roster_id': 6, 'round': 1}, {'draft_id': '1048281947404955649', 'draft_slot': 12, 'is_keeper': None, 'metadata': {'first_name': 'Patrick', 'injury_status': '', 'last_name': 'Mahomes', 'news_updated': '1724086846847', 'number': '15', 'player_id': '4046', 'position': 'QB', 'sport': 'nfl', 'status': 'Active', 'team': 'KC', 'team_abbr': '', 'team_changed_at': '', 'years_exp': '7'}, 'pick_no': 13, 'picked_by': '988915873790459904', 'player_id': '4046', 'reactions': None, 'roster_id': 6, 'round': 2}, {'draft_id': '1048281947404955649', 'draft_slot': 11, 'is_keeper': None, 'metadata': {'first_name': 'Michael', 'injury_status': '', 'last_name': 'Pittman', 'news_updated': '1724425806845', 'number': '11', 'player_id': '6819', 'position': 'WR', 'sport': 'nfl', 'status': 'Active', 'team': 'IND', 'team_abbr': '', 'team_changed_at': '', 'years_exp': '4'}, 'pick_no': 14, 'picked_by': '855933294594879488', 'player_id': '6819', 'reactions': None, 'roster_id': 1, 'round': 2}, {'draft_id': '1048281947404955649', 'draft_slot': 10, 'is_keeper': None, 'metadata': {'first_name': 'Jalen', 'injury_status': '', 'last_name': 'Hurts', 'news_updated': '1724860563209', 'number': '1', 'player_id': '6904', 'position': 'QB', 'sport': 'nfl', 'status': 'Active', 'team': 'PHI', 'team_abbr': '', 'team_changed_at': '', 'years_exp': '4'}, 'pick_no': 15, 'picked_by': '870168774161178624', 'player_id': '6904', 'reactions': None, 'roster_id': 7, 'round': 2}, {'draft_id': '1048281947404955649', 'draft_slot': 9, 'is_keeper': None, 'metadata': {'first_name': 'DJ', 'injury_status': '', 'last_name': 'Moore', 'news_updated': '1724176825227', 'number': '2', 'player_id': '4983', 'position': 'WR', 'sport': 'nfl', 'status': 'Active', 'team': 'CHI', 'team_abbr': '', 'team_changed_at': '', 'years_exp': '6'}, 'pick_no': 16, 'picked_by': '865123387251519488', 'player_id': '4983', 'reactions': None, 'roster_id': 8, 'round': 2}, {'draft_id': '1048281947404955649', 'draft_slot': 8, 'is_keeper': None, 'metadata': {'first_name': 'James', 'injury_status': '', 'last_name': 'Cook', 'news_updated': '1724860563144', 'number': '4', 'player_id': '8138', 'position': 'RB', 'sport': 'nfl', 'status': 'Active', 'team': 'BUF', 'team_abbr': '', 'team_changed_at': '', 'years_exp': '2'}, 'pick_no': 17, 'picked_by': '988915756895113216', 'player_id': '8138', 'reactions': None, 'roster_id': 5, 'round': 2}, {'draft_id': '1048281947404955649', 'draft_slot': 7, 'is_keeper': None, 'metadata': {'first_name': 'DK', 'injury_status': '', 'last_name': 'Metcalf', 'news_updated': '1724592629868', 'number': '14', 'player_id': '5846', 'position': 'WR', 'sport': 'nfl', 'status': 'Active', 'team': 'SEA', 'team_abbr': '', 'team_changed_at': '', 'years_exp': '5'}, 'pick_no': 18, 'picked_by': '862460871958462464', 'player_id': '5846', 'reactions': None, 'roster_id': 11, 'round': 2}, {'draft_id': '1048281947404955649', 'draft_slot': 6, 'is_keeper': None, 'metadata': {'first_name': 'Joe', 'injury_status': '', 'last_name': 'Mixon', 'news_updated': '1724518220752', 'number': '28', 'player_id': '4018', 'position': 'RB', 'sport': 'nfl', 'status': 'Active', 'team': 'HOU', 'team_abbr': '', 'team_changed_at': '', 'years_exp': '7'}, 'pick_no': 19, 'picked_by': '1000454257784463360', 'player_id': '4018', 'reactions': None, 'roster_id': 12, 'round': 2}, {'draft_id': '1048281947404955649', 'draft_slot': 5, 'is_keeper': None, 'metadata': {'first_name': 'Kenneth', 'injury_status': '', 'last_name': 'Walker', 'news_updated': '1724362855631', 'number': '9', 'player_id': '8151', 'position': 'RB', 'sport': 'nfl', 'status': 'Active', 'team': 'SEA', 'team_abbr': '', 'team_changed_at': '', 'years_exp': '2'}, 'pick_no': 20, 'picked_by': '870168774161178624', 'player_id': '8151', 'reactions': None, 'roster_id': 7, 'round': 2}, {'draft_id': '1048281947404955649', 'draft_slot': 4, 'is_keeper': None, 'metadata': {'first_name': 'Alvin', 'injury_status': '', 'last_name': 'Kamara', 'news_updated': '1724607632875', 'number': '41', 'player_id': '4035', 'position': 'RB', 'sport': 'nfl', 'status': 'Active', 'team': 'NO', 'team_abbr': '', 'team_changed_at': '', 'years_exp': '7'}, 'pick_no': 21, 'picked_by': '988913995279036416', 'player_id': '4035', 'reactions': None, 'roster_id': 2, 'round': 2}, {'draft_id': '1048281947404955649', 'draft_slot': 3, 'is_keeper': None, 'metadata': {'first_name': 'Jaylen', 'injury_status': 'Questionable', 'last_name': 'Waddle', 'news_updated': '1724873703835', 'number': '17', 'player_id': '7526', 'position': 'WR', 'sport': 'nfl', 'status': 'Active', 'team': 'MIA', 'team_abbr': '', 'team_changed_at': '', 'years_exp': '3'}, 'pick_no': 22, 'picked_by': '990773448974618624', 'player_id': '7526', 'reactions': None, 'roster_id': 9, 'round': 2}, {'draft_id': '1048281947404955649', 'draft_slot': 2, 'is_keeper': None, 'metadata': {'first_name': 'Sam', 'injury_status': 'Questionable', 'last_name': 'LaPorta', 'news_updated': '1724690744182', 'number': '87', 'player_id': '10859', 'position': 'TE', 'sport': 'nfl', 'status': 'Active', 'team': 'DET', 'team_abbr': '', 'team_changed_at': '', 'years_exp': '1'}, 'pick_no': 23, 'picked_by': '992614081347579904', 'player_id': '10859', 'reactions': None, 'roster_id': 10, 'round': 2}, {'draft_id': '1048281947404955649', 'draft_slot': 1, 'is_keeper': None, 'metadata': {'first_name': 'DeVonta', 'injury_status': '', 'last_name': 'Smith', 'news_updated': '1724364055513', 'number': '6', 'player_id': '7525', 'position': 'WR', 'sport': 'nfl', 'status': 'Active', 'team': 'PHI', 'team_abbr': '', 'team_changed_at': '', 'years_exp': '3'}, 'pick_no': 24, 'picked_by': '988914274368020480', 'player_id': '7525', 'reactions': None, 'roster_id': 4, 'round': 2}, {'draft_id': '1048281947404955649', 'draft_slot': 1, 'is_keeper': None, 'metadata': {'first_name': 'Tank', 'injury_status': '', 'last_name': 'Dell', 'news_updated': '1724849762279', 'number': '3', 'player_id': '9502', 'position': 'WR', 'sport': 'nfl', 'status': 'Active', 'team': 'HOU', 'team_abbr': '', 'team_changed_at': '', 'years_exp': '1'}, 'pick_no': 25, 'picked_by': '988914274368020480', 'player_id': '9502', 'reactions': None, 'roster_id': 4, 'round': 3}, {'draft_id': '1048281947404955649', 'draft_slot': 2, 'is_keeper': None, 'metadata': {'first_name': 'Malik', 'injury_status': '', 'last_name': 'Nabers', 'news_updated': '1723997736825', 'number': '1', 'player_id': '11632', 'position': 'WR', 'sport': 'nfl', 'status': 'Active', 'team': 'NYG', 'team_abbr': '', 'team_changed_at': '', 'years_exp': '0'}, 'pick_no': 26, 'picked_by': '992614081347579904', 'player_id': '11632', 'reactions': None, 'roster_id': 10, 'round': 3}, {'draft_id': '1048281947404955649', 'draft_slot': 3, 'is_keeper': None, 'metadata': {'first_name': 'Mark', 'injury_status': 'Questionable', 'last_name': 'Andrews', 'news_updated': '1725044112920', 'number': '89', 'player_id': '5012', 'position': 'TE', 'sport': 'nfl', 'status': 'Active', 'team': 'BAL', 'team_abbr': '', 'team_changed_at': '', 'years_exp': '6'}, 'pick_no': 27, 'picked_by': '990773448974618624', 'player_id': '5012', 'reactions': None, 'roster_id': 9, 'round': 3}, {'draft_id': '1048281947404955649', 'draft_slot': 4, 'is_keeper': None, 'metadata': {'first_name': 'Zay', 'injury_status': '', 'last_name': 'Flowers', 'news_updated': '1724343343714', 'number': '4', 'player_id': '9997', 'position': 'WR', 'sport': 'nfl', 'status': 'Active', 'team': 'BAL', 'team_abbr': '', 'team_changed_at': '', 'years_exp': '1'}, 'pick_no': 28, 'picked_by': '870168774161178624', 'player_id': '9997', 'reactions': None, 'roster_id': 7, 'round': 3}, {'draft_id': '1048281947404955649', 'draft_slot': 5, 'is_keeper': None, 'metadata': {'first_name': \"D'Andre\", 'injury_status': '', 'last_name': 'Swift', 'news_updated': '1724385057865', 'number': '4', 'player_id': '6790', 'position': 'RB', 'sport': 'nfl', 'status': 'Active', 'team': 'CHI', 'team_abbr': '', 'team_changed_at': '', 'years_exp': '4'}, 'pick_no': 29, 'picked_by': '985202843810332672', 'player_id': '6790', 'reactions': None, 'roster_id': 3, 'round': 3}, {'draft_id': '1048281947404955649', 'draft_slot': 6, 'is_keeper': None, 'metadata': {'first_name': 'Joe', 'injury_status': '', 'last_name': 'Burrow', 'news_updated': '1724368255584', 'number': '9', 'player_id': '6770', 'position': 'QB', 'sport': 'nfl', 'status': 'Active', 'team': 'CIN', 'team_abbr': '', 'team_changed_at': '', 'years_exp': '4'}, 'pick_no': 30, 'picked_by': '1000454257784463360', 'player_id': '6770', 'reactions': None, 'roster_id': 12, 'round': 3}, {'draft_id': '1048281947404955649', 'draft_slot': 7, 'is_keeper': None, 'metadata': {'first_name': 'Dalton', 'injury_status': '', 'last_name': 'Kincaid', 'news_updated': '1724862363432', 'number': '86', 'player_id': '10236', 'position': 'TE', 'sport': 'nfl', 'status': 'Active', 'team': 'BUF', 'team_abbr': '', 'team_changed_at': '', 'years_exp': '1'}, 'pick_no': 31, 'picked_by': '862460871958462464', 'player_id': '10236', 'reactions': None, 'roster_id': 11, 'round': 3}, {'draft_id': '1048281947404955649', 'draft_slot': 8, 'is_keeper': None, 'metadata': {'first_name': 'George', 'injury_status': '', 'last_name': 'Kittle', 'news_updated': '1724513121159', 'number': '85', 'player_id': '4217', 'position': 'TE', 'sport': 'nfl', 'status': 'Active', 'team': 'SF', 'team_abbr': '', 'team_changed_at': '', 'years_exp': '7'}, 'pick_no': 32, 'picked_by': '855933294594879488', 'player_id': '4217', 'reactions': None, 'roster_id': 1, 'round': 3}, {'draft_id': '1048281947404955649', 'draft_slot': 9, 'is_keeper': None, 'metadata': {'first_name': 'Amari', 'injury_status': '', 'last_name': 'Cooper', 'news_updated': '1724546425277', 'number': '2', 'player_id': '2309', 'position': 'WR', 'sport': 'nfl', 'status': 'Active', 'team': 'CLE', 'team_abbr': '', 'team_changed_at': '', 'years_exp': '9'}, 'pick_no': 33, 'picked_by': '865123387251519488', 'player_id': '2309', 'reactions': None, 'roster_id': 8, 'round': 3}, {'draft_id': '1048281947404955649', 'draft_slot': 10, 'is_keeper': None, 'metadata': {'first_name': 'Trey', 'injury_status': '', 'last_name': 'McBride', 'news_updated': '1724343643117', 'number': '85', 'player_id': '8130', 'position': 'TE', 'sport': 'nfl', 'status': 'Active', 'team': 'ARI', 'team_abbr': '', 'team_changed_at': '', 'years_exp': '2'}, 'pick_no': 34, 'picked_by': '870168774161178624', 'player_id': '8130', 'reactions': None, 'roster_id': 7, 'round': 3}, {'draft_id': '1048281947404955649', 'draft_slot': 11, 'is_keeper': None, 'metadata': {'first_name': 'Aaron', 'injury_status': '', 'last_name': 'Jones', 'news_updated': '1723914920214', 'number': '33', 'player_id': '4199', 'position': 'RB', 'sport': 'nfl', 'status': 'Active', 'team': 'MIN', 'team_abbr': '', 'team_changed_at': '', 'years_exp': '7'}, 'pick_no': 35, 'picked_by': '988915756895113216', 'player_id': '4199', 'reactions': None, 'roster_id': 5, 'round': 3}, {'draft_id': '1048281947404955649', 'draft_slot': 12, 'is_keeper': None, 'metadata': {'first_name': 'Anthony', 'injury_status': '', 'last_name': 'Richardson', 'news_updated': '1724425207400', 'number': '5', 'player_id': '9229', 'position': 'QB', 'sport': 'nfl', 'status': 'Active', 'team': 'IND', 'team_abbr': '', 'team_changed_at': '', 'years_exp': '1'}, 'pick_no': 36, 'picked_by': '855933294594879488', 'player_id': '9229', 'reactions': None, 'roster_id': 1, 'round': 3}, {'draft_id': '1048281947404955649', 'draft_slot': 12, 'is_keeper': None, 'metadata': {'first_name': 'Tee', 'injury_status': '', 'last_name': 'Higgins', 'news_updated': '1724368255583', 'number': '5', 'player_id': '6801', 'position': 'WR', 'sport': 'nfl', 'status': 'Active', 'team': 'CIN', 'team_abbr': '', 'team_changed_at': '', 'years_exp': '4'}, 'pick_no': 37, 'picked_by': '988915873790459904', 'player_id': '6801', 'reactions': None, 'roster_id': 6, 'round': 4}, {'draft_id': '1048281947404955649', 'draft_slot': 11, 'is_keeper': None, 'metadata': {'first_name': 'Evan', 'injury_status': '', 'last_name': 'Engram', 'news_updated': '1724511020580', 'number': '17', 'player_id': '4066', 'position': 'TE', 'sport': 'nfl', 'status': 'Active', 'team': 'JAX', 'team_abbr': '', 'team_changed_at': '', 'years_exp': '7'}, 'pick_no': 38, 'picked_by': '988915756895113216', 'player_id': '4066', 'reactions': None, 'roster_id': 5, 'round': 4}, {'draft_id': '1048281947404955649', 'draft_slot': 10, 'is_keeper': None, 'metadata': {'first_name': 'George', 'injury_status': '', 'last_name': 'Pickens', 'news_updated': '1724861163133', 'number': '14', 'player_id': '8137', 'position': 'WR', 'sport': 'nfl', 'status': 'Active', 'team': 'PIT', 'team_abbr': '', 'team_changed_at': '', 'years_exp': '2'}, 'pick_no': 39, 'picked_by': '855933294594879488', 'player_id': '8137', 'reactions': None, 'roster_id': 1, 'round': 4}, {'draft_id': '1048281947404955649', 'draft_slot': 9, 'is_keeper': None, 'metadata': {'first_name': 'James', 'injury_status': '', 'last_name': 'Conner', 'news_updated': '1724861763166', 'number': '6', 'player_id': '4137', 'position': 'RB', 'sport': 'nfl', 'status': 'Active', 'team': 'ARI', 'team_abbr': '', 'team_changed_at': '', 'years_exp': '7'}, 'pick_no': 40, 'picked_by': '865123387251519488', 'player_id': '4137', 'reactions': None, 'roster_id': 8, 'round': 4}, {'draft_id': '1048281947404955649', 'draft_slot': 8, 'is_keeper': None, 'metadata': {'first_name': 'David', 'injury_status': '', 'last_name': 'Montgomery', 'news_updated': '1724861763185', 'number': '5', 'player_id': '5892', 'position': 'RB', 'sport': 'nfl', 'status': 'Active', 'team': 'DET', 'team_abbr': '', 'team_changed_at': '', 'years_exp': '5'}, 'pick_no': 41, 'picked_by': '988914274368020480', 'player_id': '5892', 'reactions': None, 'roster_id': 4, 'round': 4}, {'draft_id': '1048281947404955649', 'draft_slot': 7, 'is_keeper': None, 'metadata': {'first_name': 'Christian', 'injury_status': 'Questionable', 'last_name': 'Kirk', 'news_updated': '1724720445387', 'number': '13', 'player_id': '4950', 'position': 'WR', 'sport': 'nfl', 'status': 'Active', 'team': 'JAX', 'team_abbr': '', 'team_changed_at': '', 'years_exp': '6'}, 'pick_no': 42, 'picked_by': '862460871958462464', 'player_id': '4950', 'reactions': None, 'roster_id': 11, 'round': 4}, {'draft_id': '1048281947404955649', 'draft_slot': 6, 'is_keeper': None, 'metadata': {'first_name': 'Jake', 'injury_status': '', 'last_name': 'Ferguson', 'news_updated': '1724862363406', 'number': '87', 'player_id': '8110', 'position': 'TE', 'sport': 'nfl', 'status': 'Active', 'team': 'DAL', 'team_abbr': '', 'team_changed_at': '', 'years_exp': '2'}, 'pick_no': 43, 'picked_by': '1000454257784463360', 'player_id': '8110', 'reactions': None, 'roster_id': 12, 'round': 4}, {'draft_id': '1048281947404955649', 'draft_slot': 5, 'is_keeper': None, 'metadata': {'first_name': 'Cole', 'injury_status': '', 'last_name': 'Kmet', 'news_updated': '1724344242870', 'number': '85', 'player_id': '6826', 'position': 'TE', 'sport': 'nfl', 'status': 'Active', 'team': 'CHI', 'team_abbr': '', 'team_changed_at': '', 'years_exp': '4'}, 'pick_no': 44, 'picked_by': '985202843810332672', 'player_id': '6826', 'reactions': None, 'roster_id': 3, 'round': 4}, {'draft_id': '1048281947404955649', 'draft_slot': 4, 'is_keeper': None, 'metadata': {'first_name': 'Chris', 'injury_status': '', 'last_name': 'Godwin', 'news_updated': '1724512520545', 'number': '14', 'player_id': '4037', 'position': 'WR', 'sport': 'nfl', 'status': 'Active', 'team': 'TB', 'team_abbr': '', 'team_changed_at': '', 'years_exp': '7'}, 'pick_no': 45, 'picked_by': '988913995279036416', 'player_id': '4037', 'reactions': None, 'roster_id': 2, 'round': 4}, {'draft_id': '1048281947404955649', 'draft_slot': 3, 'is_keeper': None, 'metadata': {'first_name': 'Rhamondre', 'injury_status': '', 'last_name': 'Stevenson', 'news_updated': '1724688043106', 'number': '38', 'player_id': '7611', 'position': 'RB', 'sport': 'nfl', 'status': 'Active', 'team': 'NE', 'team_abbr': '', 'team_changed_at': '', 'years_exp': '3'}, 'pick_no': 46, 'picked_by': '990773448974618624', 'player_id': '7611', 'reactions': None, 'roster_id': 9, 'round': 4}, {'draft_id': '1048281947404955649', 'draft_slot': 2, 'is_keeper': None, 'metadata': {'first_name': 'Keenan', 'injury_status': 'Questionable', 'last_name': 'Allen', 'news_updated': '1724886904232', 'number': '13', 'player_id': '1479', 'position': 'WR', 'sport': 'nfl', 'status': 'Active', 'team': 'CHI', 'team_abbr': '', 'team_changed_at': '', 'years_exp': '11'}, 'pick_no': 47, 'picked_by': '992614081347579904', 'player_id': '1479', 'reactions': None, 'roster_id': 10, 'round': 4}, {'draft_id': '1048281947404955649', 'draft_slot': 1, 'is_keeper': None, 'metadata': {'first_name': 'Tony', 'injury_status': '', 'last_name': 'Pollard', 'news_updated': '1724680242539', 'number': '20', 'player_id': '5967', 'position': 'RB', 'sport': 'nfl', 'status': 'Active', 'team': 'TEN', 'team_abbr': '', 'team_changed_at': '', 'years_exp': '5'}, 'pick_no': 48, 'picked_by': '988914274368020480', 'player_id': '5967', 'reactions': None, 'roster_id': 4, 'round': 4}, {'draft_id': '1048281947404955649', 'draft_slot': 1, 'is_keeper': None, 'metadata': {'first_name': 'Kyle', 'injury_status': '', 'last_name': 'Pitts', 'news_updated': '1724344843292', 'number': '8', 'player_id': '7553', 'position': 'TE', 'sport': 'nfl', 'status': 'Active', 'team': 'ATL', 'team_abbr': '', 'team_changed_at': '', 'years_exp': '3'}, 'pick_no': 49, 'picked_by': '988914274368020480', 'player_id': '7553', 'reactions': None, 'roster_id': 4, 'round': 5}, {'draft_id': '1048281947404955649', 'draft_slot': 2, 'is_keeper': None, 'metadata': {'first_name': 'Raheem', 'injury_status': '', 'last_name': 'Mostert', 'news_updated': '1725197729005', 'number': '31', 'player_id': '2749', 'position': 'RB', 'sport': 'nfl', 'status': 'Active', 'team': 'MIA', 'team_abbr': '', 'team_changed_at': '', 'years_exp': '9'}, 'pick_no': 50, 'picked_by': '992614081347579904', 'player_id': '2749', 'reactions': None, 'roster_id': 10, 'round': 5}, {'draft_id': '1048281947404955649', 'draft_slot': 3, 'is_keeper': None, 'metadata': {'first_name': 'Dak', 'injury_status': '', 'last_name': 'Prescott', 'news_updated': '1725125719776', 'number': '4', 'player_id': '3294', 'position': 'QB', 'sport': 'nfl', 'status': 'Active', 'team': 'DAL', 'team_abbr': '', 'team_changed_at': '', 'years_exp': '8'}, 'pick_no': 51, 'picked_by': '990773448974618624', 'player_id': '3294', 'reactions': None, 'roster_id': 9, 'round': 5}, {'draft_id': '1048281947404955649', 'draft_slot': 4, 'is_keeper': None, 'metadata': {'first_name': 'Brock', 'injury_status': '', 'last_name': 'Purdy', 'news_updated': '1724512520500', 'number': '13', 'player_id': '8183', 'position': 'QB', 'sport': 'nfl', 'status': 'Active', 'team': 'SF', 'team_abbr': '', 'team_changed_at': '', 'years_exp': '2'}, 'pick_no': 52, 'picked_by': '988913995279036416', 'player_id': '8183', 'reactions': None, 'roster_id': 2, 'round': 5}, {'draft_id': '1048281947404955649', 'draft_slot': 5, 'is_keeper': None, 'metadata': {'first_name': 'Jordan', 'injury_status': '', 'last_name': 'Love', 'news_updated': '1724518820947', 'number': '10', 'player_id': '6804', 'position': 'QB', 'sport': 'nfl', 'status': 'Active', 'team': 'GB', 'team_abbr': '', 'team_changed_at': '', 'years_exp': '4'}, 'pick_no': 53, 'picked_by': '985202843810332672', 'player_id': '6804', 'reactions': None, 'roster_id': 3, 'round': 5}, {'draft_id': '1048281947404955649', 'draft_slot': 6, 'is_keeper': None, 'metadata': {'first_name': 'Rashee', 'injury_status': '', 'last_name': 'Rice', 'news_updated': '1724910909865', 'number': '4', 'player_id': '10229', 'position': 'WR', 'sport': 'nfl', 'status': 'Active', 'team': 'KC', 'team_abbr': '', 'team_changed_at': '', 'years_exp': '1'}, 'pick_no': 54, 'picked_by': '1000454257784463360', 'player_id': '10229', 'reactions': None, 'roster_id': 12, 'round': 5}, {'draft_id': '1048281947404955649', 'draft_slot': 7, 'is_keeper': None, 'metadata': {'first_name': 'Najee', 'injury_status': '', 'last_name': 'Harris', 'news_updated': '1724599533465', 'number': '22', 'player_id': '7528', 'position': 'RB', 'sport': 'nfl', 'status': 'Active', 'team': 'PIT', 'team_abbr': '', 'team_changed_at': '', 'years_exp': '3'}, 'pick_no': 55, 'picked_by': '862460871958462464', 'player_id': '7528', 'reactions': None, 'roster_id': 11, 'round': 5}, {'draft_id': '1048281947404955649', 'draft_slot': 8, 'is_keeper': None, 'metadata': {'first_name': 'Rome', 'injury_status': '', 'last_name': 'Odunze', 'news_updated': '1724604933876', 'number': '15', 'player_id': '11620', 'position': 'WR', 'sport': 'nfl', 'status': 'Active', 'team': 'CHI', 'team_abbr': '', 'team_changed_at': '', 'years_exp': '0'}, 'pick_no': 56, 'picked_by': '985202843810332672', 'player_id': '11620', 'reactions': None, 'roster_id': 3, 'round': 5}, {'draft_id': '1048281947404955649', 'draft_slot': 9, 'is_keeper': None, 'metadata': {'first_name': 'Kyler', 'injury_status': '', 'last_name': 'Murray', 'news_updated': '1724162122722', 'number': '1', 'player_id': '5849', 'position': 'QB', 'sport': 'nfl', 'status': 'Active', 'team': 'ARI', 'team_abbr': '', 'team_changed_at': '', 'years_exp': '5'}, 'pick_no': 57, 'picked_by': '865123387251519488', 'player_id': '5849', 'reactions': None, 'roster_id': 8, 'round': 5}, {'draft_id': '1048281947404955649', 'draft_slot': 10, 'is_keeper': None, 'metadata': {'first_name': 'Dalton', 'injury_status': '', 'last_name': 'Schultz', 'news_updated': '1724346043505', 'number': '86', 'player_id': '5001', 'position': 'TE', 'sport': 'nfl', 'status': 'Active', 'team': 'HOU', 'team_abbr': '', 'team_changed_at': '', 'years_exp': '6'}, 'pick_no': 58, 'picked_by': '988913995279036416', 'player_id': '5001', 'reactions': None, 'roster_id': 2, 'round': 5}, {'draft_id': '1048281947404955649', 'draft_slot': 11, 'is_keeper': None, 'metadata': {'first_name': 'Jayden', 'injury_status': '', 'last_name': 'Reed', 'news_updated': '1723135532386', 'number': '11', 'player_id': '10222', 'position': 'WR', 'sport': 'nfl', 'status': 'Active', 'team': 'GB', 'team_abbr': '', 'team_changed_at': '', 'years_exp': '1'}, 'pick_no': 59, 'picked_by': '988915756895113216', 'player_id': '10222', 'reactions': None, 'roster_id': 5, 'round': 5}, {'draft_id': '1048281947404955649', 'draft_slot': 12, 'is_keeper': None, 'metadata': {'first_name': 'Zamir', 'injury_status': '', 'last_name': 'White', 'news_updated': '1723997135897', 'number': '3', 'player_id': '8139', 'position': 'RB', 'sport': 'nfl', 'status': 'Active', 'team': 'LV', 'team_abbr': '', 'team_changed_at': '', 'years_exp': '2'}, 'pick_no': 60, 'picked_by': '988915873790459904', 'player_id': '8139', 'reactions': None, 'roster_id': 6, 'round': 5}, {'draft_id': '1048281947404955649', 'draft_slot': 12, 'is_keeper': None, 'metadata': {'first_name': 'Javonte', 'injury_status': '', 'last_name': 'Williams', 'news_updated': '1724082647407', 'number': '33', 'player_id': '7588', 'position': 'RB', 'sport': 'nfl', 'status': 'Active', 'team': 'DEN', 'team_abbr': '', 'team_changed_at': '', 'years_exp': '3'}, 'pick_no': 61, 'picked_by': '988915873790459904', 'player_id': '7588', 'reactions': None, 'roster_id': 6, 'round': 6}, {'draft_id': '1048281947404955649', 'draft_slot': 11, 'is_keeper': None, 'metadata': {'first_name': 'Terry', 'injury_status': '', 'last_name': 'McLaurin', 'news_updated': '1724287534624', 'number': '17', 'player_id': '5927', 'position': 'WR', 'sport': 'nfl', 'status': 'Active', 'team': 'WAS', 'team_abbr': '', 'team_changed_at': '', 'years_exp': '5'}, 'pick_no': 62, 'picked_by': '988915756895113216', 'player_id': '5927', 'reactions': None, 'roster_id': 5, 'round': 6}, {'draft_id': '1048281947404955649', 'draft_slot': 10, 'is_keeper': None, 'metadata': {'first_name': 'Xavier', 'injury_status': '', 'last_name': 'Worthy', 'news_updated': '1723998635867', 'number': '1', 'player_id': '11624', 'position': 'WR', 'sport': 'nfl', 'status': 'Active', 'team': 'KC', 'team_abbr': '', 'team_changed_at': '', 'years_exp': '0'}, 'pick_no': 63, 'picked_by': '870168774161178624', 'player_id': '11624', 'reactions': None, 'roster_id': 7, 'round': 6}, {'draft_id': '1048281947404955649', 'draft_slot': 9, 'is_keeper': None, 'metadata': {'first_name': 'Jordan', 'injury_status': 'Questionable', 'last_name': 'Addison', 'news_updated': '1724217929706', 'number': '3', 'player_id': '9756', 'position': 'WR', 'sport': 'nfl', 'status': 'Active', 'team': 'MIN', 'team_abbr': '', 'team_changed_at': '', 'years_exp': '1'}, 'pick_no': 64, 'picked_by': '865123387251519488', 'player_id': '9756', 'reactions': None, 'roster_id': 8, 'round': 6}, {'draft_id': '1048281947404955649', 'draft_slot': 8, 'is_keeper': None, 'metadata': {'first_name': 'Ladd', 'injury_status': '', 'last_name': 'McConkey', 'news_updated': '1724605533951', 'number': '15', 'player_id': '11635', 'position': 'WR', 'sport': 'nfl', 'status': 'Active', 'team': 'LAC', 'team_abbr': '', 'team_changed_at': '', 'years_exp': '0'}, 'pick_no': 65, 'picked_by': '855933294594879488', 'player_id': '11635', 'reactions': None, 'roster_id': 1, 'round': 6}, {'draft_id': '1048281947404955649', 'draft_slot': 7, 'is_keeper': None, 'metadata': {'first_name': 'Austin', 'injury_status': '', 'last_name': 'Ekeler', 'news_updated': '1724346043517', 'number': '30', 'player_id': '4663', 'position': 'RB', 'sport': 'nfl', 'status': 'Active', 'team': 'WAS', 'team_abbr': '', 'team_changed_at': '', 'years_exp': '7'}, 'pick_no': 66, 'picked_by': '862460871958462464', 'player_id': '4663', 'reactions': None, 'roster_id': 11, 'round': 6}, {'draft_id': '1048281947404955649', 'draft_slot': 6, 'is_keeper': None, 'metadata': {'first_name': 'Calvin', 'injury_status': '', 'last_name': 'Ridley', 'news_updated': '1724689841699', 'number': '0', 'player_id': '4981', 'position': 'WR', 'sport': 'nfl', 'status': 'Active', 'team': 'TEN', 'team_abbr': '', 'team_changed_at': '', 'years_exp': '6'}, 'pick_no': 67, 'picked_by': '1000454257784463360', 'player_id': '4981', 'reactions': None, 'roster_id': 12, 'round': 6}, {'draft_id': '1048281947404955649', 'draft_slot': 5, 'is_keeper': None, 'metadata': {'first_name': 'Keon', 'injury_status': '', 'last_name': 'Coleman', 'news_updated': '1724654440851', 'number': '0', 'player_id': '11637', 'position': 'WR', 'sport': 'nfl', 'status': 'Active', 'team': 'BUF', 'team_abbr': '', 'team_changed_at': '', 'years_exp': '0'}, 'pick_no': 68, 'picked_by': '855933294594879488', 'player_id': '11637', 'reactions': None, 'roster_id': 1, 'round': 6}, {'draft_id': '1048281947404955649', 'draft_slot': 4, 'is_keeper': None, 'metadata': {'first_name': 'San Francisco', 'injury_status': '', 'last_name': '49ers', 'news_updated': '', 'number': '', 'player_id': 'SF', 'position': 'DEF', 'sport': 'nfl', 'status': '', 'team': 'SF', 'team_abbr': '', 'team_changed_at': '', 'years_exp': ''}, 'pick_no': 69, 'picked_by': '988913995279036416', 'player_id': 'SF', 'reactions': None, 'roster_id': 2, 'round': 6}, {'draft_id': '1048281947404955649', 'draft_slot': 3, 'is_keeper': None, 'metadata': {'first_name': 'Hollywood', 'injury_status': 'Doubtful', 'last_name': 'Brown', 'news_updated': '1725212130781', 'number': '5', 'player_id': '5848', 'position': 'WR', 'sport': 'nfl', 'status': 'Active', 'team': 'KC', 'team_abbr': '', 'team_changed_at': '', 'years_exp': '5'}, 'pick_no': 70, 'picked_by': '990773448974618624', 'player_id': '5848', 'reactions': None, 'roster_id': 9, 'round': 6}, {'draft_id': '1048281947404955649', 'draft_slot': 2, 'is_keeper': None, 'metadata': {'first_name': 'Zack', 'injury_status': '', 'last_name': 'Moss', 'news_updated': '1724368555657', 'number': '31', 'player_id': '6845', 'position': 'RB', 'sport': 'nfl', 'status': 'Active', 'team': 'CIN', 'team_abbr': '', 'team_changed_at': '', 'years_exp': '4'}, 'pick_no': 71, 'picked_by': '992614081347579904', 'player_id': '6845', 'reactions': None, 'roster_id': 10, 'round': 6}, {'draft_id': '1048281947404955649', 'draft_slot': 1, 'is_keeper': None, 'metadata': {'first_name': 'J.K.', 'injury_status': '', 'last_name': 'Dobbins', 'news_updated': '1725197428706', 'number': '27', 'player_id': '6806', 'position': 'RB', 'sport': 'nfl', 'status': 'Active', 'team': 'LAC', 'team_abbr': '', 'team_changed_at': '', 'years_exp': '4'}, 'pick_no': 72, 'picked_by': '988914274368020480', 'player_id': '6806', 'reactions': None, 'roster_id': 4, 'round': 6}, {'draft_id': '1048281947404955649', 'draft_slot': 1, 'is_keeper': None, 'metadata': {'first_name': 'Caleb', 'injury_status': '', 'last_name': 'Williams', 'news_updated': '1724251234021', 'number': '18', 'player_id': '11560', 'position': 'QB', 'sport': 'nfl', 'status': 'Active', 'team': 'CHI', 'team_abbr': '', 'team_changed_at': '', 'years_exp': '0'}, 'pick_no': 73, 'picked_by': '988914274368020480', 'player_id': '11560', 'reactions': None, 'roster_id': 4, 'round': 7}, {'draft_id': '1048281947404955649', 'draft_slot': 2, 'is_keeper': None, 'metadata': {'first_name': 'Devin', 'injury_status': '', 'last_name': 'Singletary', 'news_updated': '1725198029066', 'number': '26', 'player_id': '6130', 'position': 'RB', 'sport': 'nfl', 'status': 'Active', 'team': 'NYG', 'team_abbr': '', 'team_changed_at': '', 'years_exp': '5'}, 'pick_no': 74, 'picked_by': '992614081347579904', 'player_id': '6130', 'reactions': None, 'roster_id': 10, 'round': 7}, {'draft_id': '1048281947404955649', 'draft_slot': 3, 'is_keeper': None, 'metadata': {'first_name': 'Christian', 'injury_status': '', 'last_name': 'Watson', 'news_updated': '1723133733684', 'number': '9', 'player_id': '8167', 'position': 'WR', 'sport': 'nfl', 'status': 'Active', 'team': 'GB', 'team_abbr': '', 'team_changed_at': '', 'years_exp': '2'}, 'pick_no': 75, 'picked_by': '990773448974618624', 'player_id': '8167', 'reactions': None, 'roster_id': 9, 'round': 7}, {'draft_id': '1048281947404955649', 'draft_slot': 4, 'is_keeper': None, 'metadata': {'first_name': 'Tyjae', 'injury_status': '', 'last_name': 'Spears', 'news_updated': '1724679643268', 'number': '2', 'player_id': '9508', 'position': 'RB', 'sport': 'nfl', 'status': 'Active', 'team': 'TEN', 'team_abbr': '', 'team_changed_at': '', 'years_exp': '1'}, 'pick_no': 76, 'picked_by': '988913995279036416', 'player_id': '9508', 'reactions': None, 'roster_id': 2, 'round': 7}, {'draft_id': '1048281947404955649', 'draft_slot': 5, 'is_keeper': None, 'metadata': {'first_name': 'Jonathon', 'injury_status': 'PUP', 'last_name': 'Brooks', 'news_updated': '1724765751441', 'number': '24', 'player_id': '11583', 'position': 'RB', 'sport': 'nfl', 'status': 'Active', 'team': 'CAR', 'team_abbr': '', 'team_changed_at': '', 'years_exp': '0'}, 'pick_no': 77, 'picked_by': '855933294594879488', 'player_id': '11583', 'reactions': None, 'roster_id': 1, 'round': 7}, {'draft_id': '1048281947404955649', 'draft_slot': 6, 'is_keeper': None, 'metadata': {'first_name': 'Brian', 'injury_status': '', 'last_name': 'Robinson', 'news_updated': '1723995335516', 'number': '8', 'player_id': '8154', 'position': 'RB', 'sport': 'nfl', 'status': 'Active', 'team': 'WAS', 'team_abbr': '', 'team_changed_at': '', 'years_exp': '2'}, 'pick_no': 78, 'picked_by': '1000454257784463360', 'player_id': '8154', 'reactions': None, 'roster_id': 12, 'round': 7}, {'draft_id': '1048281947404955649', 'draft_slot': 7, 'is_keeper': None, 'metadata': {'first_name': 'Brock', 'injury_status': 'Questionable', 'last_name': 'Bowers', 'news_updated': '1724955614378', 'number': '89', 'player_id': '11604', 'position': 'TE', 'sport': 'nfl', 'status': 'Active', 'team': 'LV', 'team_abbr': '', 'team_changed_at': '', 'years_exp': '0'}, 'pick_no': 79, 'picked_by': '862460871958462464', 'player_id': '11604', 'reactions': None, 'roster_id': 11, 'round': 7}, {'draft_id': '1048281947404955649', 'draft_slot': 8, 'is_keeper': None, 'metadata': {'first_name': 'Jaylen', 'injury_status': 'Questionable', 'last_name': 'Warren', 'news_updated': '1724692244201', 'number': '30', 'player_id': '8228', 'position': 'RB', 'sport': 'nfl', 'status': 'Active', 'team': 'PIT', 'team_abbr': '', 'team_changed_at': '', 'years_exp': '2'}, 'pick_no': 80, 'picked_by': '855933294594879488', 'player_id': '8228', 'reactions': None, 'roster_id': 1, 'round': 7}, {'draft_id': '1048281947404955649', 'draft_slot': 9, 'is_keeper': None, 'metadata': {'first_name': 'Nick', 'injury_status': 'PUP', 'last_name': 'Chubb', 'news_updated': '1724789754146', 'number': '24', 'player_id': '4988', 'position': 'RB', 'sport': 'nfl', 'status': 'Active', 'team': 'CLE', 'team_abbr': '', 'team_changed_at': '', 'years_exp': '6'}, 'pick_no': 81, 'picked_by': '865123387251519488', 'player_id': '4988', 'reactions': None, 'roster_id': 8, 'round': 7}, {'draft_id': '1048281947404955649', 'draft_slot': 10, 'is_keeper': None, 'metadata': {'first_name': 'Diontae', 'injury_status': '', 'last_name': 'Johnson', 'news_updated': '1725213030801', 'number': '5', 'player_id': '5937', 'position': 'WR', 'sport': 'nfl', 'status': 'Active', 'team': 'CAR', 'team_abbr': '', 'team_changed_at': '', 'years_exp': '5'}, 'pick_no': 82, 'picked_by': '870168774161178624', 'player_id': '5937', 'reactions': None, 'roster_id': 7, 'round': 7}, {'draft_id': '1048281947404955649', 'draft_slot': 11, 'is_keeper': None, 'metadata': {'first_name': 'Jaxon', 'injury_status': '', 'last_name': 'Smith-Njigba', 'news_updated': '1724850962913', 'number': '11', 'player_id': '9488', 'position': 'WR', 'sport': 'nfl', 'status': 'Active', 'team': 'SEA', 'team_abbr': '', 'team_changed_at': '', 'years_exp': '1'}, 'pick_no': 83, 'picked_by': '988915756895113216', 'player_id': '9488', 'reactions': None, 'roster_id': 5, 'round': 7}, {'draft_id': '1048281947404955649', 'draft_slot': 12, 'is_keeper': None, 'metadata': {'first_name': 'Dallas', 'injury_status': 'Questionable', 'last_name': 'Goedert', 'news_updated': '1724955912350', 'number': '88', 'player_id': '5022', 'position': 'TE', 'sport': 'nfl', 'status': 'Active', 'team': 'PHI', 'team_abbr': '', 'team_changed_at': '', 'years_exp': '6'}, 'pick_no': 84, 'picked_by': '988915873790459904', 'player_id': '5022', 'reactions': None, 'roster_id': 6, 'round': 7}, {'draft_id': '1048281947404955649', 'draft_slot': 12, 'is_keeper': None, 'metadata': {'first_name': 'Trey', 'injury_status': '', 'last_name': 'Benson', 'news_updated': '1724342442667', 'number': '33', 'player_id': '11589', 'position': 'RB', 'sport': 'nfl', 'status': 'Active', 'team': 'ARI', 'team_abbr': '', 'team_changed_at': '', 'years_exp': '0'}, 'pick_no': 85, 'picked_by': '988915873790459904', 'player_id': '11589', 'reactions': None, 'roster_id': 6, 'round': 8}, {'draft_id': '1048281947404955649', 'draft_slot': 11, 'is_keeper': None, 'metadata': {'first_name': 'Ezekiel', 'injury_status': '', 'last_name': 'Elliott', 'news_updated': '1724346043486', 'number': '15', 'player_id': '3164', 'position': 'RB', 'sport': 'nfl', 'status': 'Active', 'team': 'DAL', 'team_abbr': '', 'team_changed_at': '', 'years_exp': '8'}, 'pick_no': 86, 'picked_by': '988915756895113216', 'player_id': '3164', 'reactions': None, 'roster_id': 5, 'round': 8}, {'draft_id': '1048281947404955649', 'draft_slot': 10, 'is_keeper': None, 'metadata': {'first_name': 'Chase', 'injury_status': '', 'last_name': 'Brown', 'news_updated': '1723346434517', 'number': '30', 'player_id': '9224', 'position': 'RB', 'sport': 'nfl', 'status': 'Active', 'team': 'CIN', 'team_abbr': '', 'team_changed_at': '', 'years_exp': '1'}, 'pick_no': 87, 'picked_by': '870168774161178624', 'player_id': '9224', 'reactions': None, 'roster_id': 7, 'round': 8}, {'draft_id': '1048281947404955649', 'draft_slot': 9, 'is_keeper': None, 'metadata': {'first_name': 'Blake', 'injury_status': '', 'last_name': 'Corum', 'news_updated': '1724606135191', 'number': '22', 'player_id': '11586', 'position': 'RB', 'sport': 'nfl', 'status': 'Active', 'team': 'LAR', 'team_abbr': '', 'team_changed_at': '', 'years_exp': '0'}, 'pick_no': 88, 'picked_by': '865123387251519488', 'player_id': '11586', 'reactions': None, 'roster_id': 8, 'round': 8}, {'draft_id': '1048281947404955649', 'draft_slot': 8, 'is_keeper': None, 'metadata': {'first_name': 'Gus', 'injury_status': '', 'last_name': 'Edwards', 'news_updated': '1725197729002', 'number': '4', 'player_id': '5248', 'position': 'RB', 'sport': 'nfl', 'status': 'Active', 'team': 'LAC', 'team_abbr': '', 'team_changed_at': '', 'years_exp': '6'}, 'pick_no': 89, 'picked_by': '855933294594879488', 'player_id': '5248', 'reactions': None, 'roster_id': 1, 'round': 8}, {'draft_id': '1048281947404955649', 'draft_slot': 7, 'is_keeper': None, 'metadata': {'first_name': 'Tua', 'injury_status': '', 'last_name': 'Tagovailoa', 'news_updated': '1724454611913', 'number': '1', 'player_id': '6768', 'position': 'QB', 'sport': 'nfl', 'status': 'Active', 'team': 'MIA', 'team_abbr': '', 'team_changed_at': '', 'years_exp': '4'}, 'pick_no': 90, 'picked_by': '862460871958462464', 'player_id': '6768', 'reactions': None, 'roster_id': 11, 'round': 8}, {'draft_id': '1048281947404955649', 'draft_slot': 6, 'is_keeper': None, 'metadata': {'first_name': 'Brian', 'injury_status': '', 'last_name': 'Thomas', 'news_updated': '1724510421135', 'number': '7', 'player_id': '11631', 'position': 'WR', 'sport': 'nfl', 'status': 'Active', 'team': 'JAX', 'team_abbr': '', 'team_changed_at': '', 'years_exp': '0'}, 'pick_no': 91, 'picked_by': '1000454257784463360', 'player_id': '11631', 'reactions': None, 'roster_id': 12, 'round': 8}, {'draft_id': '1048281947404955649', 'draft_slot': 5, 'is_keeper': None, 'metadata': {'first_name': 'Chuba', 'injury_status': '', 'last_name': 'Hubbard', 'news_updated': '1724776252288', 'number': '30', 'player_id': '7594', 'position': 'RB', 'sport': 'nfl', 'status': 'Active', 'team': 'CAR', 'team_abbr': '', 'team_changed_at': '', 'years_exp': '3'}, 'pick_no': 92, 'picked_by': '985202843810332672', 'player_id': '7594', 'reactions': None, 'roster_id': 3, 'round': 8}, {'draft_id': '1048281947404955649', 'draft_slot': 4, 'is_keeper': None, 'metadata': {'first_name': 'Hunter', 'injury_status': 'Questionable', 'last_name': 'Henry', 'news_updated': '1724856362584', 'number': '85', 'player_id': '3214', 'position': 'TE', 'sport': 'nfl', 'status': 'Active', 'team': 'NE', 'team_abbr': '', 'team_changed_at': '', 'years_exp': '8'}, 'pick_no': 93, 'picked_by': '988913995279036416', 'player_id': '3214', 'reactions': None, 'roster_id': 2, 'round': 8}, {'draft_id': '1048281947404955649', 'draft_slot': 3, 'is_keeper': None, 'metadata': {'first_name': 'DeAndre', 'injury_status': 'Questionable', 'last_name': 'Hopkins', 'news_updated': '1724946913859', 'number': '10', 'player_id': '1426', 'position': 'WR', 'sport': 'nfl', 'status': 'Active', 'team': 'TEN', 'team_abbr': '', 'team_changed_at': '', 'years_exp': '11'}, 'pick_no': 94, 'picked_by': '990773448974618624', 'player_id': '1426', 'reactions': None, 'roster_id': 9, 'round': 8}, {'draft_id': '1048281947404955649', 'draft_slot': 2, 'is_keeper': None, 'metadata': {'first_name': 'Jerome', 'injury_status': '', 'last_name': 'Ford', 'news_updated': '1724600732917', 'number': '34', 'player_id': '8143', 'position': 'RB', 'sport': 'nfl', 'status': 'Active', 'team': 'CLE', 'team_abbr': '', 'team_changed_at': '', 'years_exp': '2'}, 'pick_no': 95, 'picked_by': '992614081347579904', 'player_id': '8143', 'reactions': None, 'roster_id': 10, 'round': 8}, {'draft_id': '1048281947404955649', 'draft_slot': 1, 'is_keeper': None, 'metadata': {'first_name': 'Rico', 'injury_status': '', 'last_name': 'Dowdle', 'news_updated': '1725038710818', 'number': '23', 'player_id': '7021', 'position': 'RB', 'sport': 'nfl', 'status': 'Active', 'team': 'DAL', 'team_abbr': '', 'team_changed_at': '', 'years_exp': '4'}, 'pick_no': 96, 'picked_by': '988914274368020480', 'player_id': '7021', 'reactions': None, 'roster_id': 4, 'round': 8}, {'draft_id': '1048281947404955649', 'draft_slot': 1, 'is_keeper': None, 'metadata': {'first_name': 'Brandon', 'injury_status': '', 'last_name': 'Aubrey', 'news_updated': '1724082346135', 'number': '17', 'player_id': '11533', 'position': 'K', 'sport': 'nfl', 'status': 'Active', 'team': 'DAL', 'team_abbr': '', 'team_changed_at': '', 'years_exp': '1'}, 'pick_no': 97, 'picked_by': '855933294594879488', 'player_id': '11533', 'reactions': None, 'roster_id': 1, 'round': 9}, {'draft_id': '1048281947404955649', 'draft_slot': 2, 'is_keeper': None, 'metadata': {'first_name': 'Jared', 'injury_status': '', 'last_name': 'Goff', 'news_updated': '1724516120509', 'number': '16', 'player_id': '3163', 'position': 'QB', 'sport': 'nfl', 'status': 'Active', 'team': 'DET', 'team_abbr': '', 'team_changed_at': '', 'years_exp': '8'}, 'pick_no': 98, 'picked_by': '992614081347579904', 'player_id': '3163', 'reactions': None, 'roster_id': 10, 'round': 9}, {'draft_id': '1048281947404955649', 'draft_slot': 3, 'is_keeper': None, 'metadata': {'first_name': 'Justin', 'injury_status': '', 'last_name': 'Tucker', 'news_updated': '1705440330585', 'number': '9', 'player_id': '1264', 'position': 'K', 'sport': 'nfl', 'status': 'Active', 'team': 'BAL', 'team_abbr': '', 'team_changed_at': '', 'years_exp': '12'}, 'pick_no': 99, 'picked_by': '990773448974618624', 'player_id': '1264', 'reactions': None, 'roster_id': 9, 'round': 9}, {'draft_id': '1048281947404955649', 'draft_slot': 4, 'is_keeper': None, 'metadata': {'first_name': 'Harrison', 'injury_status': '', 'last_name': 'Butker', 'news_updated': '1722888906422', 'number': '7', 'player_id': '4227', 'position': 'K', 'sport': 'nfl', 'status': 'Active', 'team': 'KC', 'team_abbr': '', 'team_changed_at': '', 'years_exp': '7'}, 'pick_no': 100, 'picked_by': '988913995279036416', 'player_id': '4227', 'reactions': None, 'roster_id': 2, 'round': 9}, {'draft_id': '1048281947404955649', 'draft_slot': 5, 'is_keeper': None, 'metadata': {'first_name': 'Evan', 'injury_status': '', 'last_name': 'McPherson', 'news_updated': '1723831807358', 'number': '2', 'player_id': '7839', 'position': 'K', 'sport': 'nfl', 'status': 'Active', 'team': 'CIN', 'team_abbr': '', 'team_changed_at': '', 'years_exp': '3'}, 'pick_no': 101, 'picked_by': '985202843810332672', 'player_id': '7839', 'reactions': None, 'roster_id': 3, 'round': 9}, {'draft_id': '1048281947404955649', 'draft_slot': 6, 'is_keeper': None, 'metadata': {'first_name': 'Jake', 'injury_status': '', 'last_name': 'Elliott', 'news_updated': '1710361857137', 'number': '4', 'player_id': '4195', 'position': 'K', 'sport': 'nfl', 'status': 'Active', 'team': 'PHI', 'team_abbr': '', 'team_changed_at': '', 'years_exp': '7'}, 'pick_no': 102, 'picked_by': '1000454257784463360', 'player_id': '4195', 'reactions': None, 'roster_id': 12, 'round': 9}, {'draft_id': '1048281947404955649', 'draft_slot': 7, 'is_keeper': None, 'metadata': {'first_name': 'Jayden', 'injury_status': '', 'last_name': 'Daniels', 'news_updated': '1724433306955', 'number': '5', 'player_id': '11566', 'position': 'QB', 'sport': 'nfl', 'status': 'Active', 'team': 'WAS', 'team_abbr': '', 'team_changed_at': '', 'years_exp': '0'}, 'pick_no': 103, 'picked_by': '862460871958462464', 'player_id': '11566', 'reactions': None, 'roster_id': 11, 'round': 9}, {'draft_id': '1048281947404955649', 'draft_slot': 8, 'is_keeper': None, 'metadata': {'first_name': 'Adonai', 'injury_status': '', 'last_name': 'Mitchell', 'news_updated': '1724425807125', 'number': '10', 'player_id': '11625', 'position': 'WR', 'sport': 'nfl', 'status': 'Active', 'team': 'IND', 'team_abbr': '', 'team_changed_at': '', 'years_exp': '0'}, 'pick_no': 104, 'picked_by': '985202843810332672', 'player_id': '11625', 'reactions': None, 'roster_id': 3, 'round': 9}, {'draft_id': '1048281947404955649', 'draft_slot': 9, 'is_keeper': None, 'metadata': {'first_name': 'Jameson', 'injury_status': '', 'last_name': 'Williams', 'news_updated': '1724862363371', 'number': '9', 'player_id': '8148', 'position': 'WR', 'sport': 'nfl', 'status': 'Active', 'team': 'DET', 'team_abbr': '', 'team_changed_at': '', 'years_exp': '2'}, 'pick_no': 105, 'picked_by': '865123387251519488', 'player_id': '8148', 'reactions': None, 'roster_id': 8, 'round': 9}, {'draft_id': '1048281947404955649', 'draft_slot': 10, 'is_keeper': None, 'metadata': {'first_name': 'Zach', 'injury_status': 'Questionable', 'last_name': 'Charbonnet', 'news_updated': '1724195727210', 'number': '26', 'player_id': '9753', 'position': 'RB', 'sport': 'nfl', 'status': 'Active', 'team': 'SEA', 'team_abbr': '', 'team_changed_at': '', 'years_exp': '1'}, 'pick_no': 106, 'picked_by': '870168774161178624', 'player_id': '9753', 'reactions': None, 'roster_id': 7, 'round': 9}, {'draft_id': '1048281947404955649', 'draft_slot': 11, 'is_keeper': None, 'metadata': {'first_name': 'Younghoe', 'injury_status': '', 'last_name': 'Koo', 'news_updated': '1723980331170', 'number': '6', 'player_id': '4666', 'position': 'K', 'sport': 'nfl', 'status': 'Active', 'team': 'ATL', 'team_abbr': '', 'team_changed_at': '', 'years_exp': '7'}, 'pick_no': 107, 'picked_by': '988915756895113216', 'player_id': '4666', 'reactions': None, 'roster_id': 5, 'round': 9}, {'draft_id': '1048281947404955649', 'draft_slot': 12, 'is_keeper': None, 'metadata': {'first_name': 'T.J.', 'injury_status': 'PUP', 'last_name': 'Hockenson', 'news_updated': '1725211830663', 'number': '87', 'player_id': '5844', 'position': 'TE', 'sport': 'nfl', 'status': 'Active', 'team': 'MIN', 'team_abbr': '', 'team_changed_at': '', 'years_exp': '5'}, 'pick_no': 108, 'picked_by': '988915873790459904', 'player_id': '5844', 'reactions': None, 'roster_id': 6, 'round': 9}, {'draft_id': '1048281947404955649', 'draft_slot': 12, 'is_keeper': None, 'metadata': {'first_name': 'Courtland', 'injury_status': '', 'last_name': 'Sutton', 'news_updated': '1725027608750', 'number': '14', 'player_id': '5045', 'position': 'WR', 'sport': 'nfl', 'status': 'Active', 'team': 'DEN', 'team_abbr': '', 'team_changed_at': '', 'years_exp': '6'}, 'pick_no': 109, 'picked_by': '988915873790459904', 'player_id': '5045', 'reactions': None, 'roster_id': 6, 'round': 10}, {'draft_id': '1048281947404955649', 'draft_slot': 11, 'is_keeper': None, 'metadata': {'first_name': 'Baltimore', 'injury_status': '', 'last_name': 'Ravens', 'news_updated': '', 'number': '', 'player_id': 'BAL', 'position': 'DEF', 'sport': 'nfl', 'status': '', 'team': 'BAL', 'team_abbr': '', 'team_changed_at': '', 'years_exp': ''}, 'pick_no': 110, 'picked_by': '988915756895113216', 'player_id': 'BAL', 'reactions': None, 'roster_id': 5, 'round': 10}, {'draft_id': '1048281947404955649', 'draft_slot': 10, 'is_keeper': None, 'metadata': {'first_name': 'Tyler', 'injury_status': '', 'last_name': 'Allgeier', 'news_updated': '1722366033055', 'number': '25', 'player_id': '8132', 'position': 'RB', 'sport': 'nfl', 'status': 'Active', 'team': 'ATL', 'team_abbr': '', 'team_changed_at': '', 'years_exp': '2'}, 'pick_no': 111, 'picked_by': '985202843810332672', 'player_id': '8132', 'reactions': None, 'roster_id': 3, 'round': 10}, {'draft_id': '1048281947404955649', 'draft_slot': 9, 'is_keeper': None, 'metadata': {'first_name': 'Pat', 'injury_status': '', 'last_name': 'Freiermuth', 'news_updated': '1723998635879', 'number': '88', 'player_id': '7600', 'position': 'TE', 'sport': 'nfl', 'status': 'Active', 'team': 'PIT', 'team_abbr': '', 'team_changed_at': '', 'years_exp': '3'}, 'pick_no': 112, 'picked_by': '865123387251519488', 'player_id': '7600', 'reactions': None, 'roster_id': 8, 'round': 10}, {'draft_id': '1048281947404955649', 'draft_slot': 8, 'is_keeper': None, 'metadata': {'first_name': 'Dallas', 'injury_status': '', 'last_name': 'Cowboys', 'news_updated': '', 'number': '', 'player_id': 'DAL', 'position': 'DEF', 'sport': 'nfl', 'status': '', 'team': 'DAL', 'team_abbr': '', 'team_changed_at': '', 'years_exp': ''}, 'pick_no': 113, 'picked_by': '855933294594879488', 'player_id': 'DAL', 'reactions': None, 'roster_id': 1, 'round': 10}, {'draft_id': '1048281947404955649', 'draft_slot': 7, 'is_keeper': None, 'metadata': {'first_name': 'Curtis', 'injury_status': 'Questionable', 'last_name': 'Samuel', 'news_updated': '1724878203155', 'number': '1', 'player_id': '4082', 'position': 'WR', 'sport': 'nfl', 'status': 'Active', 'team': 'BUF', 'team_abbr': '', 'team_changed_at': '', 'years_exp': '7'}, 'pick_no': 114, 'picked_by': '862460871958462464', 'player_id': '4082', 'reactions': None, 'roster_id': 11, 'round': 10}, {'draft_id': '1048281947404955649', 'draft_slot': 6, 'is_keeper': None, 'metadata': {'first_name': 'Luke', 'injury_status': '', 'last_name': 'Musgrave', 'news_updated': '1724344242907', 'number': '88', 'player_id': '9481', 'position': 'TE', 'sport': 'nfl', 'status': 'Active', 'team': 'GB', 'team_abbr': '', 'team_changed_at': '', 'years_exp': '1'}, 'pick_no': 115, 'picked_by': '1000454257784463360', 'player_id': '9481', 'reactions': None, 'roster_id': 12, 'round': 10}, {'draft_id': '1048281947404955649', 'draft_slot': 5, 'is_keeper': None, 'metadata': {'first_name': 'Trevor', 'injury_status': '', 'last_name': 'Lawrence', 'news_updated': '1724510120788', 'number': '16', 'player_id': '7523', 'position': 'QB', 'sport': 'nfl', 'status': 'Active', 'team': 'JAX', 'team_abbr': '', 'team_changed_at': '', 'years_exp': '3'}, 'pick_no': 116, 'picked_by': '985202843810332672', 'player_id': '7523', 'reactions': None, 'roster_id': 3, 'round': 10}, {'draft_id': '1048281947404955649', 'draft_slot': 4, 'is_keeper': None, 'metadata': {'first_name': 'Romeo', 'injury_status': '', 'last_name': 'Doubs', 'news_updated': '1722451215967', 'number': '87', 'player_id': '8121', 'position': 'WR', 'sport': 'nfl', 'status': 'Active', 'team': 'GB', 'team_abbr': '', 'team_changed_at': '', 'years_exp': '2'}, 'pick_no': 117, 'picked_by': '988913995279036416', 'player_id': '8121', 'reactions': None, 'roster_id': 2, 'round': 10}, {'draft_id': '1048281947404955649', 'draft_slot': 3, 'is_keeper': None, 'metadata': {'first_name': 'Justin', 'injury_status': 'Questionable', 'last_name': 'Herbert', 'news_updated': '1724265032544', 'number': '10', 'player_id': '6797', 'position': 'QB', 'sport': 'nfl', 'status': 'Active', 'team': 'LAC', 'team_abbr': '', 'team_changed_at': '', 'years_exp': '4'}, 'pick_no': 118, 'picked_by': '990773448974618624', 'player_id': '6797', 'reactions': None, 'roster_id': 9, 'round': 10}, {'draft_id': '1048281947404955649', 'draft_slot': 2, 'is_keeper': None, 'metadata': {'first_name': 'New York', 'injury_status': '', 'last_name': 'Jets', 'news_updated': '', 'number': '', 'player_id': 'NYJ', 'position': 'DEF', 'sport': 'nfl', 'status': '', 'team': 'NYJ', 'team_abbr': '', 'team_changed_at': '', 'years_exp': ''}, 'pick_no': 119, 'picked_by': '992614081347579904', 'player_id': 'NYJ', 'reactions': None, 'roster_id': 10, 'round': 10}, {'draft_id': '1048281947404955649', 'draft_slot': 1, 'is_keeper': None, 'metadata': {'first_name': 'Kirk', 'injury_status': '', 'last_name': 'Cousins', 'news_updated': '1723294261570', 'number': '18', 'player_id': '1166', 'position': 'QB', 'sport': 'nfl', 'status': 'Active', 'team': 'ATL', 'team_abbr': '', 'team_changed_at': '', 'years_exp': '12'}, 'pick_no': 120, 'picked_by': '988914274368020480', 'player_id': '1166', 'reactions': None, 'roster_id': 4, 'round': 10}, {'draft_id': '1048281947404955649', 'draft_slot': 1, 'is_keeper': None, 'metadata': {'first_name': 'Jake', 'injury_status': '', 'last_name': 'Moody', 'news_updated': '1706735759593', 'number': '4', 'player_id': '10937', 'position': 'K', 'sport': 'nfl', 'status': 'Active', 'team': 'SF', 'team_abbr': '', 'team_changed_at': '', 'years_exp': '1'}, 'pick_no': 121, 'picked_by': '988914274368020480', 'player_id': '10937', 'reactions': None, 'roster_id': 4, 'round': 11}, {'draft_id': '1048281947404955649', 'draft_slot': 2, 'is_keeper': None, 'metadata': {'first_name': \"Ka'imi\", 'injury_status': '', 'last_name': 'Fairbairn', 'news_updated': '1723297560753', 'number': '15', 'player_id': '3451', 'position': 'K', 'sport': 'nfl', 'status': 'Active', 'team': 'HOU', 'team_abbr': '', 'team_changed_at': '', 'years_exp': '8'}, 'pick_no': 122, 'picked_by': '992614081347579904', 'player_id': '3451', 'reactions': None, 'roster_id': 10, 'round': 11}, {'draft_id': '1048281947404955649', 'draft_slot': 3, 'is_keeper': None, 'metadata': {'first_name': 'Ty', 'injury_status': '', 'last_name': 'Chandler', 'news_updated': '1724343643129', 'number': '32', 'player_id': '8230', 'position': 'RB', 'sport': 'nfl', 'status': 'Active', 'team': 'MIN', 'team_abbr': '', 'team_changed_at': '', 'years_exp': '2'}, 'pick_no': 123, 'picked_by': '990773448974618624', 'player_id': '8230', 'reactions': None, 'roster_id': 9, 'round': 11}, {'draft_id': '1048281947404955649', 'draft_slot': 4, 'is_keeper': None, 'metadata': {'first_name': 'Tyler', 'injury_status': 'Questionable', 'last_name': 'Lockett', 'news_updated': '1724379655193', 'number': '16', 'player_id': '2374', 'position': 'WR', 'sport': 'nfl', 'status': 'Active', 'team': 'SEA', 'team_abbr': '', 'team_changed_at': '', 'years_exp': '9'}, 'pick_no': 124, 'picked_by': '988913995279036416', 'player_id': '2374', 'reactions': None, 'roster_id': 2, 'round': 11}, {'draft_id': '1048281947404955649', 'draft_slot': 5, 'is_keeper': None, 'metadata': {'first_name': 'Cade', 'injury_status': '', 'last_name': 'Otton', 'news_updated': '1724471713977', 'number': '88', 'player_id': '8111', 'position': 'TE', 'sport': 'nfl', 'status': 'Active', 'team': 'TB', 'team_abbr': '', 'team_changed_at': '', 'years_exp': '2'}, 'pick_no': 125, 'picked_by': '985202843810332672', 'player_id': '8111', 'reactions': None, 'roster_id': 3, 'round': 11}, {'draft_id': '1048281947404955649', 'draft_slot': 6, 'is_keeper': None, 'metadata': {'first_name': 'Cleveland', 'injury_status': '', 'last_name': 'Browns', 'news_updated': '', 'number': '', 'player_id': 'CLE', 'position': 'DEF', 'sport': 'nfl', 'status': '', 'team': 'CLE', 'team_abbr': '', 'team_changed_at': '', 'years_exp': ''}, 'pick_no': 126, 'picked_by': '1000454257784463360', 'player_id': 'CLE', 'reactions': None, 'roster_id': 12, 'round': 11}, {'draft_id': '1048281947404955649', 'draft_slot': 7, 'is_keeper': None, 'metadata': {'first_name': 'Cameron', 'injury_status': '', 'last_name': 'Dicker', 'news_updated': '1725047113387', 'number': '11', 'player_id': '8259', 'position': 'K', 'sport': 'nfl', 'status': 'Active', 'team': 'LAC', 'team_abbr': '', 'team_changed_at': '', 'years_exp': '2'}, 'pick_no': 127, 'picked_by': '862460871958462464', 'player_id': '8259', 'reactions': None, 'roster_id': 11, 'round': 11}, {'draft_id': '1048281947404955649', 'draft_slot': 8, 'is_keeper': None, 'metadata': {'first_name': 'Jakobi', 'injury_status': '', 'last_name': 'Meyers', 'news_updated': '1724341543266', 'number': '16', 'player_id': '5947', 'position': 'WR', 'sport': 'nfl', 'status': 'Active', 'team': 'LV', 'team_abbr': '', 'team_changed_at': '', 'years_exp': '5'}, 'pick_no': 128, 'picked_by': '988914274368020480', 'player_id': '5947', 'reactions': None, 'roster_id': 4, 'round': 11}, {'draft_id': '1048281947404955649', 'draft_slot': 9, 'is_keeper': None, 'metadata': {'first_name': 'Jason', 'injury_status': '', 'last_name': 'Sanders', 'news_updated': '1705345258075', 'number': '7', 'player_id': '5119', 'position': 'K', 'sport': 'nfl', 'status': 'Active', 'team': 'MIA', 'team_abbr': '', 'team_changed_at': '', 'years_exp': '6'}, 'pick_no': 129, 'picked_by': '865123387251519488', 'player_id': '5119', 'reactions': None, 'roster_id': 8, 'round': 11}, {'draft_id': '1048281947404955649', 'draft_slot': 10, 'is_keeper': None, 'metadata': {'first_name': 'Tyler', 'injury_status': '', 'last_name': 'Bass', 'news_updated': '1708214442222', 'number': '2', 'player_id': '7042', 'position': 'K', 'sport': 'nfl', 'status': 'Active', 'team': 'BUF', 'team_abbr': '', 'team_changed_at': '', 'years_exp': '4'}, 'pick_no': 130, 'picked_by': '870168774161178624', 'player_id': '7042', 'reactions': None, 'roster_id': 7, 'round': 11}, {'draft_id': '1048281947404955649', 'draft_slot': 11, 'is_keeper': None, 'metadata': {'first_name': 'Jaylen', 'injury_status': '', 'last_name': 'Wright', 'news_updated': '1724510120768', 'number': '25', 'player_id': '11643', 'position': 'RB', 'sport': 'nfl', 'status': 'Active', 'team': 'MIA', 'team_abbr': '', 'team_changed_at': '', 'years_exp': '0'}, 'pick_no': 131, 'picked_by': '988915756895113216', 'player_id': '11643', 'reactions': None, 'roster_id': 5, 'round': 11}, {'draft_id': '1048281947404955649', 'draft_slot': 12, 'is_keeper': None, 'metadata': {'first_name': 'Miami', 'injury_status': '', 'last_name': 'Dolphins', 'news_updated': '', 'number': '', 'player_id': 'MIA', 'position': 'DEF', 'sport': 'nfl', 'status': '', 'team': 'MIA', 'team_abbr': '', 'team_changed_at': '', 'years_exp': ''}, 'pick_no': 132, 'picked_by': '988915873790459904', 'player_id': 'MIA', 'reactions': None, 'roster_id': 6, 'round': 11}, {'draft_id': '1048281947404955649', 'draft_slot': 12, 'is_keeper': None, 'metadata': {'first_name': 'Greg', 'injury_status': '', 'last_name': 'Zuerlein', 'news_updated': '1710190503641', 'number': '9', 'player_id': '1266', 'position': 'K', 'sport': 'nfl', 'status': 'Active', 'team': 'NYJ', 'team_abbr': '', 'team_changed_at': '', 'years_exp': '12'}, 'pick_no': 133, 'picked_by': '988915873790459904', 'player_id': '1266', 'reactions': None, 'roster_id': 6, 'round': 12}, {'draft_id': '1048281947404955649', 'draft_slot': 11, 'is_keeper': None, 'metadata': {'first_name': 'Ben', 'injury_status': '', 'last_name': 'Sinnott', 'news_updated': '1724604933896', 'number': '82', 'player_id': '11596', 'position': 'TE', 'sport': 'nfl', 'status': 'Active', 'team': 'WAS', 'team_abbr': '', 'team_changed_at': '', 'years_exp': '0'}, 'pick_no': 134, 'picked_by': '988915756895113216', 'player_id': '11596', 'reactions': None, 'roster_id': 5, 'round': 12}, {'draft_id': '1048281947404955649', 'draft_slot': 10, 'is_keeper': None, 'metadata': {'first_name': 'Houston', 'injury_status': '', 'last_name': 'Texans', 'news_updated': '', 'number': '', 'player_id': 'HOU', 'position': 'DEF', 'sport': 'nfl', 'status': '', 'team': 'HOU', 'team_abbr': '', 'team_changed_at': '', 'years_exp': ''}, 'pick_no': 135, 'picked_by': '870168774161178624', 'player_id': 'HOU', 'reactions': None, 'roster_id': 7, 'round': 12}, {'draft_id': '1048281947404955649', 'draft_slot': 9, 'is_keeper': None, 'metadata': {'first_name': 'Pittsburgh', 'injury_status': '', 'last_name': 'Steelers', 'news_updated': '', 'number': '', 'player_id': 'PIT', 'position': 'DEF', 'sport': 'nfl', 'status': '', 'team': 'PIT', 'team_abbr': '', 'team_changed_at': '', 'years_exp': ''}, 'pick_no': 136, 'picked_by': '865123387251519488', 'player_id': 'PIT', 'reactions': None, 'roster_id': 8, 'round': 12}, {'draft_id': '1048281947404955649', 'draft_slot': 8, 'is_keeper': None, 'metadata': {'first_name': 'Tampa Bay', 'injury_status': '', 'last_name': 'Buccaneers', 'news_updated': '', 'number': '', 'player_id': 'TB', 'position': 'DEF', 'sport': 'nfl', 'status': '', 'team': 'TB', 'team_abbr': '', 'team_changed_at': '', 'years_exp': ''}, 'pick_no': 137, 'picked_by': '985202843810332672', 'player_id': 'TB', 'reactions': None, 'roster_id': 3, 'round': 12}, {'draft_id': '1048281947404955649', 'draft_slot': 7, 'is_keeper': None, 'metadata': {'first_name': 'Washington', 'injury_status': '', 'last_name': 'Commanders', 'news_updated': '', 'number': '', 'player_id': 'WAS', 'position': 'DEF', 'sport': 'nfl', 'status': '', 'team': 'WAS', 'team_abbr': '', 'team_changed_at': '', 'years_exp': ''}, 'pick_no': 138, 'picked_by': '862460871958462464', 'player_id': 'WAS', 'reactions': None, 'roster_id': 11, 'round': 12}, {'draft_id': '1048281947404955649', 'draft_slot': 6, 'is_keeper': None, 'metadata': {'first_name': 'Baker', 'injury_status': '', 'last_name': 'Mayfield', 'news_updated': '1724510421146', 'number': '6', 'player_id': '4892', 'position': 'QB', 'sport': 'nfl', 'status': 'Active', 'team': 'TB', 'team_abbr': '', 'team_changed_at': '', 'years_exp': '6'}, 'pick_no': 139, 'picked_by': '1000454257784463360', 'player_id': '4892', 'reactions': None, 'roster_id': 12, 'round': 12}, {'draft_id': '1048281947404955649', 'draft_slot': 5, 'is_keeper': None, 'metadata': {'first_name': 'Antonio', 'injury_status': '', 'last_name': 'Gibson', 'news_updated': '1724682043534', 'number': '21', 'player_id': '6945', 'position': 'RB', 'sport': 'nfl', 'status': 'Active', 'team': 'NE', 'team_abbr': '', 'team_changed_at': '', 'years_exp': '4'}, 'pick_no': 140, 'picked_by': '985202843810332672', 'player_id': '6945', 'reactions': None, 'roster_id': 3, 'round': 12}, {'draft_id': '1048281947404955649', 'draft_slot': 4, 'is_keeper': None, 'metadata': {'first_name': 'Brandon', 'injury_status': '', 'last_name': 'McManus', 'news_updated': '1717373735470', 'number': '3', 'player_id': '1433', 'position': 'K', 'sport': 'nfl', 'status': 'Active', 'team': '', 'team_abbr': '', 'team_changed_at': '', 'years_exp': '11'}, 'pick_no': 141, 'picked_by': '988913995279036416', 'player_id': '1433', 'reactions': None, 'roster_id': 2, 'round': 12}, {'draft_id': '1048281947404955649', 'draft_slot': 3, 'is_keeper': None, 'metadata': {'first_name': 'Philadelphia', 'injury_status': '', 'last_name': 'Eagles', 'news_updated': '', 'number': '', 'player_id': 'PHI', 'position': 'DEF', 'sport': 'nfl', 'status': '', 'team': 'PHI', 'team_abbr': '', 'team_changed_at': '', 'years_exp': ''}, 'pick_no': 142, 'picked_by': '990773448974618624', 'player_id': 'PHI', 'reactions': None, 'roster_id': 9, 'round': 12}, {'draft_id': '1048281947404955649', 'draft_slot': 2, 'is_keeper': None, 'metadata': {'first_name': 'Khalil', 'injury_status': '', 'last_name': 'Shakir', 'news_updated': '1723953628885', 'number': '10', 'player_id': '8134', 'position': 'WR', 'sport': 'nfl', 'status': 'Active', 'team': 'BUF', 'team_abbr': '', 'team_changed_at': '', 'years_exp': '2'}, 'pick_no': 143, 'picked_by': '992614081347579904', 'player_id': '8134', 'reactions': None, 'roster_id': 10, 'round': 12}, {'draft_id': '1048281947404955649', 'draft_slot': 1, 'is_keeper': None, 'metadata': {'first_name': 'Kansas City', 'injury_status': '', 'last_name': 'Chiefs', 'news_updated': '', 'number': '', 'player_id': 'KC', 'position': 'DEF', 'sport': 'nfl', 'status': '', 'team': 'KC', 'team_abbr': '', 'team_changed_at': '', 'years_exp': ''}, 'pick_no': 144, 'picked_by': '988914274368020480', 'player_id': 'KC', 'reactions': None, 'roster_id': 4, 'round': 12}, {'draft_id': '1048281947404955649', 'draft_slot': 1, 'is_keeper': True, 'metadata': {'first_name': 'Stefon', 'injury_status': '', 'last_name': 'Diggs', 'news_updated': '1723968929270', 'number': '1', 'player_id': '2449', 'position': 'WR', 'sport': 'nfl', 'status': 'Active', 'team': 'HOU', 'team_abbr': '', 'team_changed_at': '', 'years_exp': '9'}, 'pick_no': 145, 'picked_by': '988914274368020480', 'player_id': '2449', 'reactions': None, 'roster_id': 4, 'round': 13}, {'draft_id': '1048281947404955649', 'draft_slot': 2, 'is_keeper': True, 'metadata': {'first_name': 'Josh', 'injury_status': '', 'last_name': 'Allen', 'news_updated': '1723951528835', 'number': '17', 'player_id': '4984', 'position': 'QB', 'sport': 'nfl', 'status': 'Active', 'team': 'BUF', 'team_abbr': '', 'team_changed_at': '', 'years_exp': '6'}, 'pick_no': 146, 'picked_by': '992614081347579904', 'player_id': '4984', 'reactions': None, 'roster_id': 10, 'round': 13}, {'draft_id': '1048281947404955649', 'draft_slot': 3, 'is_keeper': True, 'metadata': {'first_name': 'Deebo', 'injury_status': '', 'last_name': 'Samuel', 'news_updated': '1721932220795', 'number': '1', 'player_id': '5872', 'position': 'WR', 'sport': 'nfl', 'status': 'Active', 'team': 'SF', 'team_abbr': '', 'team_changed_at': '', 'years_exp': '5'}, 'pick_no': 147, 'picked_by': '990773448974618624', 'player_id': '5872', 'reactions': None, 'roster_id': 9, 'round': 13}, {'draft_id': '1048281947404955649', 'draft_slot': 4, 'is_keeper': True, 'metadata': {'first_name': 'Justin', 'injury_status': '', 'last_name': 'Jefferson', 'news_updated': '1723915520511', 'number': '18', 'player_id': '6794', 'position': 'WR', 'sport': 'nfl', 'status': 'Active', 'team': 'MIN', 'team_abbr': '', 'team_changed_at': '', 'years_exp': '4'}, 'pick_no': 148, 'picked_by': '988913995279036416', 'player_id': '6794', 'reactions': None, 'roster_id': 2, 'round': 13}, {'draft_id': '1048281947404955649', 'draft_slot': 5, 'is_keeper': True, 'metadata': {'first_name': 'Tyreek', 'injury_status': '', 'last_name': 'Hill', 'news_updated': '1723934125325', 'number': '10', 'player_id': '3321', 'position': 'WR', 'sport': 'nfl', 'status': 'Active', 'team': 'MIA', 'team_abbr': '', 'team_changed_at': '', 'years_exp': '8'}, 'pick_no': 149, 'picked_by': '985202843810332672', 'player_id': '3321', 'reactions': None, 'roster_id': 3, 'round': 13}, {'draft_id': '1048281947404955649', 'draft_slot': 6, 'is_keeper': None, 'metadata': {'first_name': 'Jonathan', 'injury_status': '', 'last_name': 'Taylor', 'news_updated': '1723765512074', 'number': '28', 'player_id': '6813', 'position': 'RB', 'sport': 'nfl', 'status': 'Active', 'team': 'IND', 'team_abbr': '', 'team_changed_at': '', 'years_exp': '4'}, 'pick_no': 150, 'picked_by': '1000454257784463360', 'player_id': '6813', 'reactions': None, 'roster_id': 12, 'round': 13}, {'draft_id': '1048281947404955649', 'draft_slot': 7, 'is_keeper': None, 'metadata': {'first_name': 'Mike', 'injury_status': '', 'last_name': 'Evans', 'news_updated': '1723659961030', 'number': '13', 'player_id': '2216', 'position': 'WR', 'sport': 'nfl', 'status': 'Active', 'team': 'TB', 'team_abbr': '', 'team_changed_at': '', 'years_exp': '10'}, 'pick_no': 151, 'picked_by': '862460871958462464', 'player_id': '2216', 'reactions': None, 'roster_id': 11, 'round': 13}, {'draft_id': '1048281947404955649', 'draft_slot': 8, 'is_keeper': True, 'metadata': {'first_name': 'Jahmyr', 'injury_status': 'Questionable', 'last_name': 'Gibbs', 'news_updated': '1723653315045', 'number': '26', 'player_id': '9221', 'position': 'RB', 'sport': 'nfl', 'status': 'Active', 'team': 'DET', 'team_abbr': '', 'team_changed_at': '', 'years_exp': '1'}, 'pick_no': 152, 'picked_by': '855933294594879488', 'player_id': '9221', 'reactions': None, 'roster_id': 1, 'round': 13}, {'draft_id': '1048281947404955649', 'draft_slot': 9, 'is_keeper': True, 'metadata': {'first_name': 'Saquon', 'injury_status': '', 'last_name': 'Barkley', 'news_updated': '1723258255603', 'number': '26', 'player_id': '4866', 'position': 'RB', 'sport': 'nfl', 'status': 'Active', 'team': 'PHI', 'team_abbr': '', 'team_changed_at': '', 'years_exp': '6'}, 'pick_no': 153, 'picked_by': '865123387251519488', 'player_id': '4866', 'reactions': None, 'roster_id': 8, 'round': 13}, {'draft_id': '1048281947404955649', 'draft_slot': 10, 'is_keeper': True, 'metadata': {'first_name': 'CeeDee', 'injury_status': 'DNR', 'last_name': 'Lamb', 'news_updated': '1723924221547', 'number': '88', 'player_id': '6786', 'position': 'WR', 'sport': 'nfl', 'status': 'Active', 'team': 'DAL', 'team_abbr': '', 'team_changed_at': '', 'years_exp': '4'}, 'pick_no': 154, 'picked_by': '870168774161178624', 'player_id': '6786', 'reactions': None, 'roster_id': 7, 'round': 13}, {'draft_id': '1048281947404955649', 'draft_slot': 11, 'is_keeper': True, 'metadata': {'first_name': 'Christian', 'injury_status': 'Questionable', 'last_name': 'McCaffrey', 'news_updated': '1723828204364', 'number': '23', 'player_id': '4034', 'position': 'RB', 'sport': 'nfl', 'status': 'Active', 'team': 'SF', 'team_abbr': '', 'team_changed_at': '', 'years_exp': '7'}, 'pick_no': 155, 'picked_by': '988915756895113216', 'player_id': '4034', 'reactions': None, 'roster_id': 5, 'round': 13}, {'draft_id': '1048281947404955649', 'draft_slot': 12, 'is_keeper': True, 'metadata': {'first_name': 'Amon-Ra', 'injury_status': '', 'last_name': 'St. Brown', 'news_updated': '1723922722543', 'number': '14', 'player_id': '7547', 'position': 'WR', 'sport': 'nfl', 'status': 'Active', 'team': 'DET', 'team_abbr': '', 'team_changed_at': '', 'years_exp': '3'}, 'pick_no': 156, 'picked_by': '988915873790459904', 'player_id': '7547', 'reactions': None, 'roster_id': 6, 'round': 13}, {'draft_id': '1048281947404955649', 'draft_slot': 12, 'is_keeper': True, 'metadata': {'first_name': 'Breece', 'injury_status': '', 'last_name': 'Hall', 'news_updated': '1723930823918', 'number': '20', 'player_id': '8155', 'position': 'RB', 'sport': 'nfl', 'status': 'Active', 'team': 'NYJ', 'team_abbr': '', 'team_changed_at': '', 'years_exp': '2'}, 'pick_no': 157, 'picked_by': '988915873790459904', 'player_id': '8155', 'reactions': None, 'roster_id': 6, 'round': 14}, {'draft_id': '1048281947404955649', 'draft_slot': 11, 'is_keeper': True, 'metadata': {'first_name': 'Lamar', 'injury_status': '', 'last_name': 'Jackson', 'news_updated': '1723687502675', 'number': '8', 'player_id': '4881', 'position': 'QB', 'sport': 'nfl', 'status': 'Active', 'team': 'BAL', 'team_abbr': '', 'team_changed_at': '', 'years_exp': '6'}, 'pick_no': 158, 'picked_by': '988915756895113216', 'player_id': '4881', 'reactions': None, 'roster_id': 5, 'round': 14}, {'draft_id': '1048281947404955649', 'draft_slot': 10, 'is_keeper': True, 'metadata': {'first_name': 'Garrett', 'injury_status': '', 'last_name': 'Wilson', 'news_updated': '1723931124011', 'number': '5', 'player_id': '8146', 'position': 'WR', 'sport': 'nfl', 'status': 'Active', 'team': 'NYJ', 'team_abbr': '', 'team_changed_at': '', 'years_exp': '2'}, 'pick_no': 159, 'picked_by': '870168774161178624', 'player_id': '8146', 'reactions': None, 'roster_id': 7, 'round': 14}, {'draft_id': '1048281947404955649', 'draft_slot': 9, 'is_keeper': True, 'metadata': {'first_name': \"Ja'Marr\", 'injury_status': 'Questionable', 'last_name': 'Chase', 'news_updated': '1723579547104', 'number': '1', 'player_id': '7564', 'position': 'WR', 'sport': 'nfl', 'status': 'Active', 'team': 'CIN', 'team_abbr': '', 'team_changed_at': '', 'years_exp': '3'}, 'pick_no': 160, 'picked_by': '865123387251519488', 'player_id': '7564', 'reactions': None, 'roster_id': 8, 'round': 14}, {'draft_id': '1048281947404955649', 'draft_slot': 8, 'is_keeper': True, 'metadata': {'first_name': 'Puka', 'injury_status': 'Questionable', 'last_name': 'Nacua', 'news_updated': '1723040421279', 'number': '17', 'player_id': '9493', 'position': 'WR', 'sport': 'nfl', 'status': 'Active', 'team': 'LAR', 'team_abbr': '', 'team_changed_at': '', 'years_exp': '1'}, 'pick_no': 161, 'picked_by': '855933294594879488', 'player_id': '9493', 'reactions': None, 'roster_id': 1, 'round': 14}, {'draft_id': '1048281947404955649', 'draft_slot': 7, 'is_keeper': None, 'metadata': {'first_name': 'C.J.', 'injury_status': '', 'last_name': 'Stroud', 'news_updated': '1724001037591', 'number': '7', 'player_id': '9758', 'position': 'QB', 'sport': 'nfl', 'status': 'Active', 'team': 'HOU', 'team_abbr': '', 'team_changed_at': '', 'years_exp': '1'}, 'pick_no': 162, 'picked_by': '862460871958462464', 'player_id': '9758', 'reactions': None, 'roster_id': 11, 'round': 14}, {'draft_id': '1048281947404955649', 'draft_slot': 6, 'is_keeper': None, 'metadata': {'first_name': 'Nico', 'injury_status': '', 'last_name': 'Collins', 'news_updated': '1723943127141', 'number': '12', 'player_id': '7569', 'position': 'WR', 'sport': 'nfl', 'status': 'Active', 'team': 'HOU', 'team_abbr': '', 'team_changed_at': '', 'years_exp': '3'}, 'pick_no': 163, 'picked_by': '1000454257784463360', 'player_id': '7569', 'reactions': None, 'roster_id': 12, 'round': 14}, {'draft_id': '1048281947404955649', 'draft_slot': 5, 'is_keeper': True, 'metadata': {'first_name': \"De'Von\", 'injury_status': '', 'last_name': 'Achane', 'news_updated': '1723995634908', 'number': '28', 'player_id': '9226', 'position': 'RB', 'sport': 'nfl', 'status': 'Active', 'team': 'MIA', 'team_abbr': '', 'team_changed_at': '', 'years_exp': '1'}, 'pick_no': 164, 'picked_by': '985202843810332672', 'player_id': '9226', 'reactions': None, 'roster_id': 3, 'round': 14}, {'draft_id': '1048281947404955649', 'draft_slot': 4, 'is_keeper': True, 'metadata': {'first_name': 'Drake', 'injury_status': '', 'last_name': 'London', 'news_updated': '1723239953599', 'number': '5', 'player_id': '8112', 'position': 'WR', 'sport': 'nfl', 'status': 'Active', 'team': 'ATL', 'team_abbr': '', 'team_changed_at': '', 'years_exp': '2'}, 'pick_no': 165, 'picked_by': '988913995279036416', 'player_id': '8112', 'reactions': None, 'roster_id': 2, 'round': 14}, {'draft_id': '1048281947404955649', 'draft_slot': 3, 'is_keeper': True, 'metadata': {'first_name': 'Brandon', 'injury_status': '', 'last_name': 'Aiyuk', 'news_updated': '1724005235626', 'number': '11', 'player_id': '6803', 'position': 'WR', 'sport': 'nfl', 'status': 'Active', 'team': 'SF', 'team_abbr': '', 'team_changed_at': '', 'years_exp': '4'}, 'pick_no': 166, 'picked_by': '990773448974618624', 'player_id': '6803', 'reactions': None, 'roster_id': 9, 'round': 14}, {'draft_id': '1048281947404955649', 'draft_slot': 2, 'is_keeper': True, 'metadata': {'first_name': 'Bijan', 'injury_status': '', 'last_name': 'Robinson', 'news_updated': '1723910419554', 'number': '7', 'player_id': '9509', 'position': 'RB', 'sport': 'nfl', 'status': 'Active', 'team': 'ATL', 'team_abbr': '', 'team_changed_at': '', 'years_exp': '1'}, 'pick_no': 167, 'picked_by': '992614081347579904', 'player_id': '9509', 'reactions': None, 'roster_id': 10, 'round': 14}, {'draft_id': '1048281947404955649', 'draft_slot': 1, 'is_keeper': True, 'metadata': {'first_name': 'David', 'injury_status': 'Questionable', 'last_name': 'Njoku', 'news_updated': '1723773912623', 'number': '85', 'player_id': '4033', 'position': 'TE', 'sport': 'nfl', 'status': 'Active', 'team': 'CLE', 'team_abbr': '', 'team_changed_at': '', 'years_exp': '7'}, 'pick_no': 168, 'picked_by': '988914274368020480', 'player_id': '4033', 'reactions': None, 'roster_id': 4, 'round': 14}]\n"
     ]
    }
   ],
   "source": [
    "draft_url = f'https://api.sleeper.app/v1/league/{league_id}/drafts'\n",
    "draft_response=requests.get(draft_url)\n",
    "if draft_response.status_code == 200:\n",
    "    draft_dict = draft_response.json()[0]\n",
    "    draft_id = draft_dict['draft_id']\n",
    "    draft_picks_url = f'https://api.sleeper.app/v1/draft/{draft_id}/picks'\n",
    "    draft_picks_resp = requests.get(draft_picks_url)\n",
    "    if draft_picks_resp.status_code == 200:\n",
    "        draft_picks = draft_picks_resp.json()"
   ]
  },
  {
   "cell_type": "code",
   "execution_count": 13,
   "metadata": {},
   "outputs": [
    {
     "data": {
      "text/plain": [
       "{'draft_id': '1048281947404955649',\n",
       " 'draft_slot': 2,\n",
       " 'is_keeper': None,\n",
       " 'metadata': {'first_name': 'Marvin',\n",
       "  'injury_status': '',\n",
       "  'last_name': 'Harrison',\n",
       "  'news_updated': '1724636137545',\n",
       "  'number': '18',\n",
       "  'player_id': '11628',\n",
       "  'position': 'WR',\n",
       "  'sport': 'nfl',\n",
       "  'status': 'Active',\n",
       "  'team': 'ARI',\n",
       "  'team_abbr': '',\n",
       "  'team_changed_at': '',\n",
       "  'years_exp': '0'},\n",
       " 'pick_no': 2,\n",
       " 'picked_by': '992614081347579904',\n",
       " 'player_id': '11628',\n",
       " 'reactions': None,\n",
       " 'roster_id': 10,\n",
       " 'round': 1}"
      ]
     },
     "execution_count": 13,
     "metadata": {},
     "output_type": "execute_result"
    }
   ],
   "source": [
    "draft_picks[1]"
   ]
  },
  {
   "cell_type": "code",
   "execution_count": 17,
   "metadata": {},
   "outputs": [],
   "source": [
    "def getLeagueDraft(league_id: str):\n",
    "    draft_url = f'https://api.sleeper.app/v1/league/{league_id}/drafts'\n",
    "    draft_response=requests.get(draft_url)\n",
    "    if draft_response.status_code == 200:\n",
    "        draft_dict = draft_response.json()[0]\n",
    "        draft_id = draft_dict['draft_id']\n",
    "        draft_picks_url = f'https://api.sleeper.app/v1/draft/{draft_id}/picks'\n",
    "        draft_picks_resp = requests.get(draft_picks_url)\n",
    "        if draft_picks_resp.status_code == 200:\n",
    "            draft_picks = draft_picks_resp.json()\n",
    "            #picks = [(pick['player_id'], pick['round'], pick['picked_by'], pick['is_keeper'], int(pick['metadata']['amount'])) for pick in draft_picks]\n",
    "            picks = [(pick['player_id'], pick['round'], pick['picked_by'], pick['is_keeper']) for pick in draft_picks]\n",
    "            picks_df = pd.DataFrame(picks, columns=['player_id', 'round', 'manager_id', 'is_keeper'])\n",
    "    return picks_df if not picks_df.empty else None"
   ]
  },
  {
   "cell_type": "code",
   "execution_count": 98,
   "metadata": {},
   "outputs": [],
   "source": [
    "draft_picks_df = getLeagueDraft(league_id=league_id)"
   ]
  },
  {
   "cell_type": "code",
   "execution_count": 99,
   "metadata": {},
   "outputs": [],
   "source": [
    "draft_picks_df['years_kept'] = draft_picks_df.apply(lambda x: 1 if x.is_keeper else 0, axis=1)"
   ]
  },
  {
   "cell_type": "code",
   "execution_count": 100,
   "metadata": {},
   "outputs": [],
   "source": [
    "draft_picks_df.drop('is_keeper', axis=1, inplace=True)"
   ]
  },
  {
   "cell_type": "code",
   "execution_count": 26,
   "metadata": {},
   "outputs": [],
   "source": [
    "prev_draft_round = {\n",
    "    '7564' : 1,\n",
    "    '3321' : 2,\n",
    "    '4034' : 1,\n",
    "    '2133' : 1,\n",
    "    '2449' : 2,\n",
    "    '6794' : 1,\n",
    "    '6786' : 2,\n",
    "    '4984' : 4,\n",
    "    '8146' : 10,\n",
    "    '7547' : 5,\n",
    "    '4881' : 5,\n",
    "    '4866' : 2\n",
    "}"
   ]
  },
  {
   "cell_type": "code",
   "execution_count": 29,
   "metadata": {},
   "outputs": [],
   "source": [
    "prev_keepers_df = pd.DataFrame(prev_draft_round.items(), columns=['player_id', 'round_drafted'])"
   ]
  },
  {
   "cell_type": "code",
   "execution_count": 31,
   "metadata": {},
   "outputs": [],
   "source": [
    "prev_keepers_df['years_kept'] = 2"
   ]
  },
  {
   "cell_type": "code",
   "execution_count": 101,
   "metadata": {},
   "outputs": [],
   "source": [
    "draft_picks_df = draft_picks_df.merge(prev_keepers_df, on=['player_id'], how='outer')"
   ]
  },
  {
   "cell_type": "code",
   "execution_count": 103,
   "metadata": {},
   "outputs": [],
   "source": [
    "draft_picks_df = draft_picks_df.merge(managers_df)"
   ]
  },
  {
   "cell_type": "code",
   "execution_count": 105,
   "metadata": {},
   "outputs": [],
   "source": [
    "draft_picks_df.to_excel('tds_keepers.xlsx')"
   ]
  },
  {
   "cell_type": "code",
   "execution_count": null,
   "metadata": {},
   "outputs": [],
   "source": [
    "# TODO: add functionality to pull the highest scoring player available during the draft\n",
    "def getBestDraftPlayer():\n",
    "    pass"
   ]
  },
  {
   "cell_type": "code",
   "execution_count": null,
   "metadata": {},
   "outputs": [],
   "source": [
    "# TODO: add playoff chance calculator"
   ]
  },
  {
   "cell_type": "code",
   "execution_count": null,
   "metadata": {},
   "outputs": [],
   "source": [
    "# TODO: add clinching criteria, a la https://theffhub.com/PlayoffMachine?site=sleeper&leagueId=984533715101495296&userId=&s2=&swid="
   ]
  },
  {
   "cell_type": "code",
   "execution_count": null,
   "metadata": {},
   "outputs": [],
   "source": [
    "# TODO: add schedule comparison"
   ]
  },
  {
   "cell_type": "code",
   "execution_count": null,
   "metadata": {},
   "outputs": [],
   "source": [
    "def longest_win_streak(row):\n",
    "    streaks = row.split('L')\n",
    "    max_win_streak = max(map(len, streaks))\n",
    "    return max_win_streak\n",
    "\n",
    "def longest_loss_streak(row):\n",
    "    streaks = row.split('W')\n",
    "    max_loss_streak = max(map(len, streaks))\n",
    "    return max_loss_streak"
   ]
  },
  {
   "cell_type": "code",
   "execution_count": 119,
   "metadata": {},
   "outputs": [],
   "source": [
    "def getPlayers(update_players=False):\n",
    "    if update_players:\n",
    "        print('Updating Players info...')\n",
    "        players_url = 'https://api.sleeper.app/v1/players/nfl'\n",
    "        players_resp = requests.get(players_url)\n",
    "        if players_resp.status_code == 200:\n",
    "            players_dict = players_resp.json()\n",
    "            with open('../ref/players.json', 'w') as players_out:\n",
    "                json.dump(players_dict, players_out, sort_keys=True, indent=4)\n",
    "    with open('../ref/players.json') as players_in:\n",
    "        players = json.load(players_in)\n",
    "    players_list = []\n",
    "    for player in players:\n",
    "        position = players[player]['position']\n",
    "        is_rookie = False\n",
    "        if position != 'DEF':\n",
    "            is_rookie = True if players[player]['years_exp'] == 0 else False\n",
    "        if players[player]['active']: players_list.append([player, players[player]['first_name'], players[player]['last_name'], is_rookie, position])\n",
    "    return pd.DataFrame(players_list, columns=['player_id', 'first_name', 'last_name', 'is_rookie', 'position'])\n"
   ]
  },
  {
   "cell_type": "code",
   "execution_count": 120,
   "metadata": {},
   "outputs": [],
   "source": [
    "players_df = getPlayers()"
   ]
  },
  {
   "cell_type": "code",
   "execution_count": 121,
   "metadata": {},
   "outputs": [],
   "source": [
    "keepers_df = pd.read_excel('tds_keepers.xlsx')"
   ]
  },
  {
   "cell_type": "code",
   "execution_count": 123,
   "metadata": {},
   "outputs": [],
   "source": [
    "keepers_df = keepers_df.merge(players_df)"
   ]
  },
  {
   "cell_type": "code",
   "execution_count": 126,
   "metadata": {},
   "outputs": [],
   "source": [
    "keepers_df.drop(['player_id', 'is_rookie'], axis=1, inplace=True)"
   ]
  },
  {
   "cell_type": "code",
   "execution_count": 128,
   "metadata": {},
   "outputs": [],
   "source": [
    "keepers_df.fillna(0, inplace=True)"
   ]
  },
  {
   "cell_type": "code",
   "execution_count": 129,
   "metadata": {},
   "outputs": [],
   "source": [
    "keepers_df.to_excel('tds_keepers.xlsx')"
   ]
  },
  {
   "cell_type": "code",
   "execution_count": 36,
   "metadata": {},
   "outputs": [],
   "source": [
    "draft_picks_df['years_kept'] = 1\n",
    "draft_picks_df['base_salary'] = round(draft_picks_df.cost * (1 + (draft_picks_df.years_kept * 0.2)))"
   ]
  },
  {
   "cell_type": "code",
   "execution_count": 43,
   "metadata": {},
   "outputs": [],
   "source": [
    "rosterd_players_df = sqldf(\"\"\"\n",
    "SELECT\n",
    "    players_df.player_id\n",
    "    ,players_df.first_name\n",
    "    ,players_df.last_name\n",
    "    ,players_df.position\n",
    "    ,Coalesce(draft_picks_df.base_salary, 5) AS base_salary\n",
    "    ,Coalesce(draft_picks_df.years_kept,0) AS years_kept\n",
    "    ,managers_df.manager_id\n",
    "    ,managers_df.display_name\n",
    "    FROM players_df\n",
    "    LEFT JOIN curr_rosters_df\n",
    "        ON curr_rosters_df.players = players_df.player_id\n",
    "    LEFT JOIN managers_df\n",
    "        ON managers_df.manager_id = curr_rosters_df.manager_id\n",
    "    LEFT JOIN draft_picks_df\n",
    "        ON draft_picks_df.player_id = players_df.player_id\n",
    "    WHERE players_df.player_id IN (SELECT players FROM curr_rosters_df)\n",
    "\"\"\")"
   ]
  },
  {
   "cell_type": "code",
   "execution_count": 44,
   "metadata": {},
   "outputs": [
    {
     "data": {
      "text/html": [
       "<div>\n",
       "<style scoped>\n",
       "    .dataframe tbody tr th:only-of-type {\n",
       "        vertical-align: middle;\n",
       "    }\n",
       "\n",
       "    .dataframe tbody tr th {\n",
       "        vertical-align: top;\n",
       "    }\n",
       "\n",
       "    .dataframe thead th {\n",
       "        text-align: right;\n",
       "    }\n",
       "</style>\n",
       "<table border=\"1\" class=\"dataframe\">\n",
       "  <thead>\n",
       "    <tr style=\"text-align: right;\">\n",
       "      <th></th>\n",
       "      <th>player_id</th>\n",
       "      <th>first_name</th>\n",
       "      <th>last_name</th>\n",
       "      <th>position</th>\n",
       "      <th>base_salary</th>\n",
       "      <th>years_kept</th>\n",
       "      <th>manager_id</th>\n",
       "      <th>display_name</th>\n",
       "    </tr>\n",
       "  </thead>\n",
       "  <tbody>\n",
       "    <tr>\n",
       "      <th>0</th>\n",
       "      <td>11533</td>\n",
       "      <td>Brandon</td>\n",
       "      <td>Aubrey</td>\n",
       "      <td>K</td>\n",
       "      <td>5.0</td>\n",
       "      <td>1</td>\n",
       "      <td>862460871958462464</td>\n",
       "      <td>TravisBailey</td>\n",
       "    </tr>\n",
       "    <tr>\n",
       "      <th>1</th>\n",
       "      <td>6786</td>\n",
       "      <td>CeeDee</td>\n",
       "      <td>Lamb</td>\n",
       "      <td>WR</td>\n",
       "      <td>77.0</td>\n",
       "      <td>1</td>\n",
       "      <td>862460871958462464</td>\n",
       "      <td>TravisBailey</td>\n",
       "    </tr>\n",
       "    <tr>\n",
       "      <th>2</th>\n",
       "      <td>6783</td>\n",
       "      <td>Jerry</td>\n",
       "      <td>Jeudy</td>\n",
       "      <td>WR</td>\n",
       "      <td>1.0</td>\n",
       "      <td>1</td>\n",
       "      <td>1004853775678500864</td>\n",
       "      <td>jdblackwell21</td>\n",
       "    </tr>\n",
       "    <tr>\n",
       "      <th>3</th>\n",
       "      <td>11439</td>\n",
       "      <td>Jaleel</td>\n",
       "      <td>McLaughlin</td>\n",
       "      <td>RB</td>\n",
       "      <td>1.0</td>\n",
       "      <td>1</td>\n",
       "      <td>79241179040202752</td>\n",
       "      <td>Sunshine81</td>\n",
       "    </tr>\n",
       "    <tr>\n",
       "      <th>4</th>\n",
       "      <td>7553</td>\n",
       "      <td>Kyle</td>\n",
       "      <td>Pitts</td>\n",
       "      <td>TE</td>\n",
       "      <td>20.0</td>\n",
       "      <td>1</td>\n",
       "      <td>735752104337092608</td>\n",
       "      <td>Drunkworth</td>\n",
       "    </tr>\n",
       "    <tr>\n",
       "      <th>...</th>\n",
       "      <td>...</td>\n",
       "      <td>...</td>\n",
       "      <td>...</td>\n",
       "      <td>...</td>\n",
       "      <td>...</td>\n",
       "      <td>...</td>\n",
       "      <td>...</td>\n",
       "      <td>...</td>\n",
       "    </tr>\n",
       "    <tr>\n",
       "      <th>176</th>\n",
       "      <td>8155</td>\n",
       "      <td>Breece</td>\n",
       "      <td>Hall</td>\n",
       "      <td>RB</td>\n",
       "      <td>77.0</td>\n",
       "      <td>1</td>\n",
       "      <td>870168774161178624</td>\n",
       "      <td>kerrveball</td>\n",
       "    </tr>\n",
       "    <tr>\n",
       "      <th>177</th>\n",
       "      <td>KC</td>\n",
       "      <td>Kansas City</td>\n",
       "      <td>Chiefs</td>\n",
       "      <td>DEF</td>\n",
       "      <td>1.0</td>\n",
       "      <td>1</td>\n",
       "      <td>855933294594879488</td>\n",
       "      <td>rmasons</td>\n",
       "    </tr>\n",
       "    <tr>\n",
       "      <th>178</th>\n",
       "      <td>6806</td>\n",
       "      <td>J.K.</td>\n",
       "      <td>Dobbins</td>\n",
       "      <td>RB</td>\n",
       "      <td>1.0</td>\n",
       "      <td>1</td>\n",
       "      <td>862460871958462464</td>\n",
       "      <td>TravisBailey</td>\n",
       "    </tr>\n",
       "    <tr>\n",
       "      <th>179</th>\n",
       "      <td>6813</td>\n",
       "      <td>Jonathan</td>\n",
       "      <td>Taylor</td>\n",
       "      <td>RB</td>\n",
       "      <td>55.0</td>\n",
       "      <td>1</td>\n",
       "      <td>988915873790459904</td>\n",
       "      <td>GriffDaGreat</td>\n",
       "    </tr>\n",
       "    <tr>\n",
       "      <th>180</th>\n",
       "      <td>7588</td>\n",
       "      <td>Javonte</td>\n",
       "      <td>Williams</td>\n",
       "      <td>RB</td>\n",
       "      <td>6.0</td>\n",
       "      <td>1</td>\n",
       "      <td>992614081347579904</td>\n",
       "      <td>UB400</td>\n",
       "    </tr>\n",
       "  </tbody>\n",
       "</table>\n",
       "<p>181 rows × 8 columns</p>\n",
       "</div>"
      ],
      "text/plain": [
       "    player_id   first_name   last_name position  base_salary  years_kept  \\\n",
       "0       11533      Brandon      Aubrey        K          5.0           1   \n",
       "1        6786       CeeDee        Lamb       WR         77.0           1   \n",
       "2        6783        Jerry       Jeudy       WR          1.0           1   \n",
       "3       11439       Jaleel  McLaughlin       RB          1.0           1   \n",
       "4        7553         Kyle       Pitts       TE         20.0           1   \n",
       "..        ...          ...         ...      ...          ...         ...   \n",
       "176      8155       Breece        Hall       RB         77.0           1   \n",
       "177        KC  Kansas City      Chiefs      DEF          1.0           1   \n",
       "178      6806         J.K.     Dobbins       RB          1.0           1   \n",
       "179      6813     Jonathan      Taylor       RB         55.0           1   \n",
       "180      7588      Javonte    Williams       RB          6.0           1   \n",
       "\n",
       "              manager_id   display_name  \n",
       "0     862460871958462464   TravisBailey  \n",
       "1     862460871958462464   TravisBailey  \n",
       "2    1004853775678500864  jdblackwell21  \n",
       "3      79241179040202752     Sunshine81  \n",
       "4     735752104337092608     Drunkworth  \n",
       "..                   ...            ...  \n",
       "176   870168774161178624     kerrveball  \n",
       "177   855933294594879488        rmasons  \n",
       "178   862460871958462464   TravisBailey  \n",
       "179   988915873790459904   GriffDaGreat  \n",
       "180   992614081347579904          UB400  \n",
       "\n",
       "[181 rows x 8 columns]"
      ]
     },
     "execution_count": 44,
     "metadata": {},
     "output_type": "execute_result"
    }
   ],
   "source": [
    "rosterd_players_df"
   ]
  },
  {
   "cell_type": "code",
   "execution_count": null,
   "metadata": {},
   "outputs": [],
   "source": [
    "rosterd_players_df.to_excel('tds_2023.xlsx', index=False)"
   ]
  },
  {
   "cell_type": "code",
   "execution_count": null,
   "metadata": {},
   "outputs": [],
   "source": [
    "\n",
    "current_week, current_season, nfl_state = getNflState()\n",
    "transactions = {}\n",
    "player_list = []\n",
    "matchup_list = []\n",
    "for wk in range(1, current_week):\n",
    "    transactions[str(wk)] = getTransactions(league_id, str(wk))\n",
    "    player_week_list, matchup_week_list = getMatchups(league_id, str(wk))\n",
    "    player_list.extend(player_week_list)\n",
    "    matchup_list.extend(matchup_week_list)\n"
   ]
  },
  {
   "cell_type": "code",
   "execution_count": null,
   "metadata": {},
   "outputs": [],
   "source": [
    "league_info = getLeagueInfo(league_id=league_id)"
   ]
  },
  {
   "cell_type": "code",
   "execution_count": null,
   "metadata": {},
   "outputs": [],
   "source": [
    "league_info"
   ]
  },
  {
   "cell_type": "code",
   "execution_count": null,
   "metadata": {},
   "outputs": [],
   "source": [
    "rosters, rosters_df = getCurrentRosters(league_id)"
   ]
  },
  {
   "cell_type": "code",
   "execution_count": null,
   "metadata": {},
   "outputs": [],
   "source": [
    "rosters_df['longest_win_streak'] = rosters_df['record'].apply(longest_win_streak)\n",
    "rosters_df['longest_loss_streak'] = rosters_df['record'].apply(longest_loss_streak)"
   ]
  },
  {
   "cell_type": "code",
   "execution_count": null,
   "metadata": {},
   "outputs": [],
   "source": [
    "player_info_df = getPlayers()"
   ]
  },
  {
   "cell_type": "code",
   "execution_count": null,
   "metadata": {},
   "outputs": [],
   "source": [
    "player_df = pd.DataFrame(player_list, columns=['player_id', 'roster_id', 'week', 'is_starter', 'points'])\n",
    "matchup_df = pd.DataFrame(matchup_list, columns=['matchup_id', 'week', 'roster_id'])"
   ]
  },
  {
   "cell_type": "code",
   "execution_count": null,
   "metadata": {},
   "outputs": [],
   "source": [
    "player_df = ps.sqldf(\"\"\"\n",
    "SELECT\n",
    "    pdf.*\n",
    "    ,pi.first_name\n",
    "    ,pi.last_name\n",
    "    ,pi.is_rookie\n",
    "    ,pi.position\n",
    "    FROM player_df pdf\n",
    "    LEFT JOIN player_info_df pi\n",
    "        ON pi.player_id = pdf.player_id          \n",
    "\"\"\")"
   ]
  },
  {
   "cell_type": "code",
   "execution_count": null,
   "metadata": {},
   "outputs": [],
   "source": [
    "weekly_pos_rnks = ps.sqldf(\"\"\"\n",
    "SELECT\n",
    "    roster_id\n",
    "    ,week\n",
    "    ,player_id\n",
    "    ,position\n",
    "    ,points\n",
    "    ,Rank() OVER (PARTITION BY roster_id, week, position ORDER BY points DESC, player_id) AS pos_rnk\n",
    "    FROM player_df\n",
    "    WHERE 1=1\n",
    "\"\"\")"
   ]
  },
  {
   "cell_type": "code",
   "execution_count": null,
   "metadata": {},
   "outputs": [],
   "source": [
    "top_weekly_players = ps.sqldf(\"\"\"\n",
    "SELECT\n",
    "    roster_id\n",
    "    ,week\n",
    "    ,player_id\n",
    "    FROM\n",
    "        (SELECT\n",
    "            roster_id\n",
    "            ,week\n",
    "            ,player_id\n",
    "            ,position\n",
    "            ,points\n",
    "            ,Rank() OVER (PARTITION BY roster_id, week ORDER BY points DESC, player_id) AS flex_rnk\n",
    "            FROM weekly_pos_rnks\n",
    "            WHERE 1=1\n",
    "                AND ((position IN ('WR', 'RB') AND pos_rnk > 2) OR (position = 'TE' AND pos_rnk > 1))   \n",
    "        )\n",
    "    WHERE flex_rnk < 3\n",
    "UNION ALL\n",
    "SELECT\n",
    "    roster_id\n",
    "    ,week\n",
    "    ,player_id\n",
    "    FROM weekly_pos_rnks\n",
    "    WHERE 1=1\n",
    "        AND ((position NOT IN ('WR', 'RB') AND pos_rnk = 1) OR (position IN ('WR', 'RB') AND pos_rnk < 3))\n",
    "\"\"\")"
   ]
  },
  {
   "cell_type": "code",
   "execution_count": null,
   "metadata": {},
   "outputs": [],
   "source": [
    "player_df = ps.sqldf(\"\"\"\n",
    "SELECT\n",
    "    fp.*\n",
    "    ,CASE\n",
    "        WHEN tp.player_id IS NOT NULL\n",
    "            THEN True\n",
    "        ELSE False\n",
    "    END AS top_player\n",
    "    FROM player_df fp\n",
    "    LEFT JOIN top_weekly_players tp\n",
    "        ON tp.player_id = fp.player_id\n",
    "        AND tp.week = fp.week\n",
    "        AND tp.roster_id = fp.roster_id\n",
    "\"\"\")"
   ]
  },
  {
   "cell_type": "code",
   "execution_count": null,
   "metadata": {},
   "outputs": [],
   "source": [
    "starters_by_score = \"\"\"\n",
    "SELECT\n",
    "    player_id\n",
    "    ,first_name\n",
    "    ,last_name\n",
    "    ,Sum(points) AS ttl_strtd_points\n",
    "    FROM player_df\n",
    "    WHERE 1=1\n",
    "        AND is_starter = 1\n",
    "    GROUP BY 1,2,3\n",
    "    ORDER BY 4 DESC\n",
    "\"\"\""
   ]
  },
  {
   "cell_type": "code",
   "execution_count": null,
   "metadata": {},
   "outputs": [],
   "source": [
    "ps.sqldf(starters_by_score).head(25)"
   ]
  },
  {
   "cell_type": "code",
   "execution_count": null,
   "metadata": {},
   "outputs": [],
   "source": [
    "player_df"
   ]
  },
  {
   "cell_type": "code",
   "execution_count": null,
   "metadata": {},
   "outputs": [],
   "source": [
    "rookies_by_manager_sql = \"\"\"\n",
    "SELECT\n",
    "    rm.owner_name\n",
    "    ,count(distinct player_id) AS rookies_started\n",
    "    FROM player_df pdf\n",
    "    LEFT JOIN roster_manager_df rm\n",
    "        ON rm.roster_id = pdf.roster_id\n",
    "    WHERE 1=1\n",
    "        AND is_rookie = 1\n",
    "        AND is_starter = 1\n",
    "    GROUP BY 1\n",
    "    ORDER BY rookies_started DESC\n",
    "\"\"\""
   ]
  },
  {
   "cell_type": "code",
   "execution_count": null,
   "metadata": {},
   "outputs": [],
   "source": [
    "ps.sqldf(rookies_by_manager_sql)"
   ]
  },
  {
   "cell_type": "code",
   "execution_count": null,
   "metadata": {},
   "outputs": [],
   "source": [
    "manager_yearly_points = ps.sqldf(\"\"\"\n",
    "SELECT\n",
    "    roster_id\n",
    "    ,Sum(CASE\n",
    "        WHEN is_Starter = 1\n",
    "            THEN points\n",
    "        ELSE 0\n",
    "    END) AS starter_points\n",
    "    ,Sum(CASE\n",
    "        WHEN top_player = 1\n",
    "            THEN points\n",
    "        ELSE 0\n",
    "    END) AS top_points\n",
    "    FROM player_df\n",
    "    GROUP BY 1\n",
    "\"\"\")"
   ]
  },
  {
   "cell_type": "code",
   "execution_count": null,
   "metadata": {},
   "outputs": [],
   "source": [
    "mngr_effcncy_sql = \"\"\"\n",
    "SELECT\n",
    "    rm.owner_name\n",
    "    ,(starter_points/top_points) * 100 AS effcncy\n",
    "    FROM manager_yearly_points myp\n",
    "    LEFT JOIN roster_manager_df rm\n",
    "        ON rm.roster_id = myp.roster_id\n",
    "    ORDER BY effcncy DESC\n",
    "\"\"\""
   ]
  },
  {
   "cell_type": "code",
   "execution_count": null,
   "metadata": {},
   "outputs": [],
   "source": [
    "ps.sqldf(mngr_effcncy_sql)"
   ]
  },
  {
   "cell_type": "code",
   "execution_count": null,
   "metadata": {},
   "outputs": [],
   "source": [
    "reg_season_avg_scores_sql = \"\"\"\n",
    "SELECT\n",
    "    rm.owner_name\n",
    "    ,Sum(pdf.points) as ttl_points\n",
    "    FROM player_df pdf\n",
    "    LEFT JOIN roster_manager_df rm\n",
    "        ON rm.roster_id = pdf.roster_id\n",
    "    WHERE 1=1\n",
    "        AND pdf.is_starter = 1\n",
    "        AND pdf.week < 15\n",
    "    GROUP BY 1\n",
    "    ORDER BY 2 DESC\n",
    "\"\"\""
   ]
  },
  {
   "cell_type": "code",
   "execution_count": null,
   "metadata": {},
   "outputs": [],
   "source": [
    "ps.sqldf(reg_season_avg_scores_sql)"
   ]
  },
  {
   "cell_type": "code",
   "execution_count": null,
   "metadata": {},
   "outputs": [],
   "source": []
  },
  {
   "cell_type": "code",
   "execution_count": null,
   "metadata": {},
   "outputs": [],
   "source": [
    "mngr_wkly_pnts = \"\"\"\n",
    "SELECT\n",
    "    roster_id\n",
    "    ,week\n",
    "    ,sum(points) AS ttl_points\n",
    "    FROM player_df\n",
    "    WHERE 1=1\n",
    "        AND is_starter =1 \n",
    "    GROUP BY 1,2\n",
    "\"\"\""
   ]
  },
  {
   "cell_type": "code",
   "execution_count": null,
   "metadata": {},
   "outputs": [],
   "source": [
    "mngr_wkly = ps.sqldf(mngr_wkly_pnts)"
   ]
  },
  {
   "cell_type": "code",
   "execution_count": null,
   "metadata": {},
   "outputs": [],
   "source": [
    "mtchps_sql = \"\"\"\n",
    "SELECT\n",
    "    a.week\n",
    "    ,CASE\n",
    "        WHEN a.roster_id < b.roster_id\n",
    "            THEN a.roster_id\n",
    "        ELSE b.roster_id\n",
    "    END AS mngr_a\n",
    "    ,CASE\n",
    "        WHEN a.roster_id > b.roster_id\n",
    "            THEN a.roster_id\n",
    "        ELSE b.roster_id\n",
    "    END AS mngr_b\n",
    "    FROM matchup_df a\n",
    "    LEFT JOIN matchup_df b\n",
    "        ON b.matchup_id = a.matchup_id\n",
    "        AND b.roster_id != a.roster_id\n",
    "        AND b.week = a.week\n",
    "    WHERE 1=1\n",
    "        AND b.roster_id IS NOT NULL\n",
    "    GROUP BY 1,2,3\n",
    "\"\"\""
   ]
  },
  {
   "cell_type": "code",
   "execution_count": null,
   "metadata": {},
   "outputs": [],
   "source": [
    "mtchups_df = ps.sqldf(mtchps_sql)"
   ]
  },
  {
   "cell_type": "code",
   "execution_count": null,
   "metadata": {},
   "outputs": [],
   "source": [
    "mtchp_pnts_sql = \"\"\"\n",
    "SELECT\n",
    "    m.week\n",
    "    ,rma.owner_name AS owner_a\n",
    "    ,a.ttl_points AS mngr_a_points\n",
    "    ,rmb.owner_name AS owner_b\n",
    "    ,b.ttl_points AS mngr_b_points\n",
    "    ,CASE\n",
    "        WHEN a.ttl_points > b.ttl_points\n",
    "            THEN rma.owner_name\n",
    "        ELSE rmb.owner_name\n",
    "    END AS winner\n",
    "    ,CASE\n",
    "        WHEN a.ttl_points > b.ttl_points\n",
    "            THEN a.ttl_points - b.ttl_points\n",
    "        ELSE b.ttl_points - a.ttl_points\n",
    "    END AS pnt_diff\n",
    "    FROM mtchups_df m\n",
    "    LEFT JOIN mngr_wkly a\n",
    "        ON a.roster_id = m.mngr_a\n",
    "        AND a.week = m.week\n",
    "    LEFT JOIN mngr_wkly b\n",
    "        ON b.roster_id = m.mngr_b\n",
    "        AND b.week = m.week\n",
    "    LEFT JOIN roster_manager_df rma\n",
    "        ON rma.roster_id = m.mngr_a\n",
    "    LEFT JOIN roster_manager_df rmb\n",
    "        ON rmb.roster_id = m.mngr_b\n",
    "    ORDER BY 7 DESC\n",
    "\"\"\""
   ]
  },
  {
   "cell_type": "code",
   "execution_count": null,
   "metadata": {},
   "outputs": [],
   "source": [
    "matchup_ttls_df = ps.sqldf(mtchp_pnts_sql)"
   ]
  },
  {
   "cell_type": "code",
   "execution_count": null,
   "metadata": {},
   "outputs": [],
   "source": [
    "ps.sqldf('SELECT * FROM matchup_ttls_df WHERE mngr_b_points < 111.62 OR mngr_a_points < 111.62')"
   ]
  },
  {
   "cell_type": "code",
   "execution_count": null,
   "metadata": {},
   "outputs": [],
   "source": [
    "matchup_ttls_df"
   ]
  },
  {
   "cell_type": "code",
   "execution_count": null,
   "metadata": {},
   "outputs": [],
   "source": [
    "lrgst_mrgn_vctry = \"\"\"\n",
    "SELECT\n",
    "    winner\n",
    "    ,sum(pnt_diff) / count(week) AS avg_vctry\n",
    "    FROM matchup_ttls_df\n",
    "    GROUP BY 1\n",
    "\"\"\""
   ]
  },
  {
   "cell_type": "code",
   "execution_count": null,
   "metadata": {},
   "outputs": [],
   "source": [
    "ps.sqldf(lrgst_mrgn_vctry)"
   ]
  },
  {
   "cell_type": "code",
   "execution_count": null,
   "metadata": {},
   "outputs": [],
   "source": [
    "ps.sqldf(mngr_wkly_pnts)"
   ]
  },
  {
   "cell_type": "code",
   "execution_count": 113,
   "metadata": {},
   "outputs": [],
   "source": [
    "ttl = 0\n",
    "for i in range(0,14):\n",
    "    ttl += 5"
   ]
  },
  {
   "cell_type": "code",
   "execution_count": 114,
   "metadata": {},
   "outputs": [
    {
     "data": {
      "text/plain": [
       "70"
      ]
     },
     "execution_count": 114,
     "metadata": {},
     "output_type": "execute_result"
    }
   ],
   "source": [
    "ttl"
   ]
  },
  {
   "cell_type": "code",
   "execution_count": 115,
   "metadata": {},
   "outputs": [
    {
     "name": "stdout",
     "output_type": "stream",
     "text": [
      "70\n",
      "65\n",
      "60\n",
      "55\n",
      "50\n",
      "45\n",
      "40\n",
      "35\n",
      "30\n",
      "25\n",
      "20\n",
      "15\n",
      "10\n",
      "5\n"
     ]
    }
   ],
   "source": [
    "for i in range(0,14):\n",
    "    print(70 - (5 * (i)))"
   ]
  },
  {
   "cell_type": "markdown",
   "metadata": {},
   "source": []
  }
 ],
 "metadata": {
  "kernelspec": {
   "display_name": "Python 3",
   "language": "python",
   "name": "python3"
  },
  "language_info": {
   "codemirror_mode": {
    "name": "ipython",
    "version": 3
   },
   "file_extension": ".py",
   "mimetype": "text/x-python",
   "name": "python",
   "nbconvert_exporter": "python",
   "pygments_lexer": "ipython3",
   "version": "3.12.0"
  }
 },
 "nbformat": 4,
 "nbformat_minor": 2
}
