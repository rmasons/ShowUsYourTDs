{
 "cells": [
  {
   "cell_type": "code",
   "execution_count": 82,
   "metadata": {},
   "outputs": [],
   "source": [
    "from collections import Counter\n",
    "import dotenv, os, requests\n",
    "import pandas as pd\n",
    "import numpy as np\n",
    "import pandasql as ps"
   ]
  },
  {
   "cell_type": "code",
   "execution_count": 3,
   "metadata": {},
   "outputs": [
    {
     "data": {
      "text/plain": [
       "True"
      ]
     },
     "execution_count": 3,
     "metadata": {},
     "output_type": "execute_result"
    }
   ],
   "source": [
    "dotenv.load_dotenv('ref/.env')"
   ]
  },
  {
   "cell_type": "code",
   "execution_count": 4,
   "metadata": {},
   "outputs": [],
   "source": [
    "league_id = os.environ.get('tds')\n",
    "sports_data_key = os.environ.get('sports_data')"
   ]
  },
  {
   "cell_type": "code",
   "execution_count": 5,
   "metadata": {},
   "outputs": [],
   "source": [
    "base_api_url = 'https://api.sleeper.app/v1/'\n",
    "sports_data_url = 'https://api.sportsdata.io/v3/nfl/stats/json/Injuries/2024'"
   ]
  },
  {
   "cell_type": "code",
   "execution_count": 6,
   "metadata": {},
   "outputs": [],
   "source": [
    "league_info = requests.get(f'{base_api_url}league/{league_id}').json()"
   ]
  },
  {
   "cell_type": "code",
   "execution_count": 7,
   "metadata": {},
   "outputs": [],
   "source": [
    "league_info = {\n",
    "    'league_name' : league_info['name']\n",
    "    ,'start_week' : league_info['settings']['start_week']\n",
    "    ,'playoff_start_week' : league_info['settings']['playoff_week_start']\n",
    "    ,'roster_slots' : [pos for pos in league_info['roster_positions'] if pos != 'BN']\n",
    "}"
   ]
  },
  {
   "cell_type": "code",
   "execution_count": 8,
   "metadata": {},
   "outputs": [],
   "source": [
    "def get_injuries_df():\n",
    "    injuries_resp = [requests.get(f'{sports_data_url}/{wk}?key={sports_data_key}').json() for wk in range(league_info['start_week'], league_info['playoff_start_week'])]\n",
    "    injuries = []\n",
    "    for wk in injuries_resp:\n",
    "        for injury in wk:\n",
    "            injuries.append({'full_name' : injury['Name'], 'week' : injury['Week'], 'team' : injury['Team']})\n",
    "    return pd.DataFrame(injuries)"
   ]
  },
  {
   "cell_type": "code",
   "execution_count": 9,
   "metadata": {},
   "outputs": [],
   "source": [
    "injuries_df = get_injuries_df()"
   ]
  },
  {
   "cell_type": "code",
   "execution_count": 10,
   "metadata": {},
   "outputs": [],
   "source": [
    "def get_weekly_matchups_dfs():\n",
    "    plyr_wkly_points_dicts = []\n",
    "    wkly_matchups_dicts = []\n",
    "    wkly_matchups = [requests.get(f'{base_api_url}league/{league_id}/matchups/{wk}').json() for wk in range(league_info['start_week'], league_info['playoff_start_week'])]\n",
    "    week_num = 0\n",
    "    for wk in wkly_matchups:\n",
    "        week_num += 1\n",
    "        for matchup in wk:\n",
    "            wkly_matchups_dicts.append({'roster_id' : matchup['roster_id'], 'week' : week_num, 'matchup_id' : matchup['matchup_id'], 'ttl_points' : matchup['points']})\n",
    "            for player in matchup['players']:\n",
    "                plyr_wkly_points_dicts.append({'roster_id': matchup['roster_id'], 'player_id' : player, 'week': week_num, 'is_starter' : True if player in matchup['starters'] else False, 'points' : matchup['players_points'][player]})\n",
    "    return (pd.DataFrame(wkly_matchups_dicts), pd.DataFrame(plyr_wkly_points_dicts))"
   ]
  },
  {
   "cell_type": "code",
   "execution_count": 11,
   "metadata": {},
   "outputs": [],
   "source": [
    "def get_weekly_transactions_dfs():\n",
    "    wkly_trnsctns = [requests.get(f'{base_api_url}league/{league_id}/transactions/{wk}').json() for wk in range(league_info['start_week'], league_info['playoff_start_week'])]\n",
    "    trns_dicts = []\n",
    "    plyr_trns_dicts = []\n",
    "    week_num = 0\n",
    "    player_trns_typs = ['add', 'drop']\n",
    "    for wk in wkly_trnsctns:\n",
    "        week_num += 1\n",
    "        for trns in wk:\n",
    "            for trns_typ in player_trns_typs:\n",
    "                if trns[f'{trns_typ}s']:\n",
    "                    for player in trns[f'{trns_typ}s'].keys():\n",
    "                        plyr_trns_dicts.append({\n",
    "                            'week' : week_num\n",
    "                            ,'player_id' : player\n",
    "                            ,'roster_id' : trns[f'{trns_typ}s'][player]\n",
    "                            ,'add_drop' : trns_typ\n",
    "                            ,'trns_id' : trns['transaction_id']\n",
    "                            ,'create_tms' : trns['created']\n",
    "                        })\n",
    "            for roster in trns['roster_ids']:\n",
    "                trns_dicts.append({\n",
    "                    'roster_id' : roster\n",
    "                    ,'trns_typ' : trns['type']\n",
    "                    ,'trns_status' : trns['status']\n",
    "                    ,'trns_id' : trns['transaction_id']\n",
    "                    ,'create_tms' : trns['created']\n",
    "                })\n",
    "    return (pd.DataFrame(trns_dicts), pd.DataFrame(plyr_trns_dicts))"
   ]
  },
  {
   "cell_type": "code",
   "execution_count": 12,
   "metadata": {},
   "outputs": [],
   "source": [
    "def get_roster_id_by_team_df():\n",
    "    users_df = pd.DataFrame(requests.get(f'{base_api_url}league/{league_id}/users').json())[['display_name', 'user_id']]\n",
    "    rosters_df = pd.DataFrame([{'roster_id' : roster['roster_id'], 'owner_id' : roster['owner_id'], 'record' : roster['metadata']['record']} for roster in requests.get(f'{base_api_url}league/{league_id}/rosters').json()])\n",
    "    return users_df.merge(rosters_df, how='inner', left_on='user_id', right_on='owner_id')[['display_name', 'roster_id', 'record']]"
   ]
  },
  {
   "cell_type": "code",
   "execution_count": 13,
   "metadata": {},
   "outputs": [],
   "source": [
    "def get_draft_df():\n",
    "    draft_id = requests.get(f'{base_api_url}league/{league_id}/drafts').json()[0]['draft_id']\n",
    "    draft_tm = requests.get(f'{base_api_url}draft/{draft_id}').json()['created']\n",
    "    draft_resp = requests.get(f'{base_api_url}draft/{draft_id}/picks').json()\n",
    "    return pd.DataFrame([{'player_id' : pick['player_id'], 'roster_id' : pick['roster_id'], 'round' : pick['round'], 'trns_typ' : 'draft', 'trns_status' : 'complete', 'week' : 0, 'add_drop' : 'add', 'create_tms' : draft_tm, 'trns_id' : f'{pick['draft_id']}{pick['roster_id']}{pick['round']}'} for pick in draft_resp])"
   ]
  },
  {
   "cell_type": "code",
   "execution_count": 14,
   "metadata": {},
   "outputs": [],
   "source": [
    "draft_df = get_draft_df()"
   ]
  },
  {
   "cell_type": "code",
   "execution_count": 15,
   "metadata": {},
   "outputs": [],
   "source": [
    "matchups_df, plyr_points_df = get_weekly_matchups_dfs()"
   ]
  },
  {
   "cell_type": "code",
   "execution_count": 16,
   "metadata": {},
   "outputs": [],
   "source": [
    "trns_df, plyr_trns_df = get_weekly_transactions_dfs()"
   ]
  },
  {
   "cell_type": "code",
   "execution_count": 17,
   "metadata": {},
   "outputs": [],
   "source": [
    "draft_df['create_tms'] = pd.to_datetime(draft_df.create_tms, unit='ms')\n",
    "plyr_trns_df['create_tms'] = pd.to_datetime(plyr_trns_df.create_tms, unit='ms')\n",
    "trns_df['create_tms'] = pd.to_datetime(trns_df.create_tms, unit='ms')"
   ]
  },
  {
   "cell_type": "code",
   "execution_count": 18,
   "metadata": {},
   "outputs": [],
   "source": [
    "plyr_trns_df = pd.concat([plyr_trns_df, draft_df[['week', 'player_id', 'roster_id', 'add_drop', 'trns_id', 'create_tms']]])\n",
    "trns_df = pd.concat([trns_df, draft_df[['roster_id', 'trns_typ', 'trns_status', 'trns_id', 'create_tms']]])"
   ]
  },
  {
   "cell_type": "code",
   "execution_count": 19,
   "metadata": {},
   "outputs": [
    {
     "name": "stderr",
     "output_type": "stream",
     "text": [
      "/var/folders/0b/_drclt_54kb8why6nm6znsnh0000gn/T/ipykernel_91827/2706744226.py:1: FutureWarning: The behavior of 'to_datetime' with 'unit' when parsing strings is deprecated. In a future version, strings will be parsed as datetime strings, matching the behavior without a 'unit'. To retain the old behavior, explicitly cast ints or floats to numeric type before calling to_datetime.\n",
      "  plyr_df = pd.read_json('ref/players.json', orient='index')[['first_name', 'last_name', 'team', 'position', 'player_id', 'years_exp', 'full_name']]\n",
      "/var/folders/0b/_drclt_54kb8why6nm6znsnh0000gn/T/ipykernel_91827/2706744226.py:1: FutureWarning: The behavior of 'to_datetime' with 'unit' when parsing strings is deprecated. In a future version, strings will be parsed as datetime strings, matching the behavior without a 'unit'. To retain the old behavior, explicitly cast ints or floats to numeric type before calling to_datetime.\n",
      "  plyr_df = pd.read_json('ref/players.json', orient='index')[['first_name', 'last_name', 'team', 'position', 'player_id', 'years_exp', 'full_name']]\n",
      "/var/folders/0b/_drclt_54kb8why6nm6znsnh0000gn/T/ipykernel_91827/2706744226.py:1: FutureWarning: The behavior of 'to_datetime' with 'unit' when parsing strings is deprecated. In a future version, strings will be parsed as datetime strings, matching the behavior without a 'unit'. To retain the old behavior, explicitly cast ints or floats to numeric type before calling to_datetime.\n",
      "  plyr_df = pd.read_json('ref/players.json', orient='index')[['first_name', 'last_name', 'team', 'position', 'player_id', 'years_exp', 'full_name']]\n"
     ]
    }
   ],
   "source": [
    "plyr_df = pd.read_json('ref/players.json', orient='index')[['first_name', 'last_name', 'team', 'position', 'player_id', 'years_exp', 'full_name']]"
   ]
  },
  {
   "cell_type": "code",
   "execution_count": 20,
   "metadata": {},
   "outputs": [],
   "source": [
    "rosters_df = get_roster_id_by_team_df()"
   ]
  },
  {
   "cell_type": "code",
   "execution_count": 301,
   "metadata": {},
   "outputs": [],
   "source": [
    "def get_rookie_starts_df(plyr_points_df, plyr_df, rosters_df):\n",
    "    strted_df = plyr_points_df[plyr_points_df.is_starter == True].merge(plyr_df[plyr_df.years_exp == 0], on='player_id', how='inner').merge(rosters_df, on='roster_id', how='inner')[['player_id', 'display_name', 'week']]\n",
    "    rookies_strtd_df = strted_df.groupby('display_name').player_id.nunique().to_frame().reset_index().rename({'player_id' : 'num_rookies_started'}, axis=1)\n",
    "    rookie_strts_df = strted_df.groupby('display_name').player_id.count().to_frame().reset_index().rename({'player_id' : 'ttl_rookie_starts'}, axis=1)\n",
    "    return rookies_strtd_df.merge(rookie_strts_df).sort_values(by=['ttl_rookie_starts', 'num_rookies_started'], ascending=False).reset_index(drop=True)"
   ]
  },
  {
   "cell_type": "code",
   "execution_count": 22,
   "metadata": {},
   "outputs": [],
   "source": [
    "def get_win_streak(row):\n",
    "    return max(map(len, row.split('L')))\n",
    "\n",
    "def get_loss_streak(row):\n",
    "    return max(map(len, row.split('W')))"
   ]
  },
  {
   "cell_type": "code",
   "execution_count": 23,
   "metadata": {},
   "outputs": [],
   "source": [
    "rosters_df['win_streak'] = rosters_df.record.apply(get_win_streak)\n",
    "rosters_df['loss_streak'] = rosters_df.record.apply(get_loss_streak)"
   ]
  },
  {
   "cell_type": "code",
   "execution_count": 24,
   "metadata": {},
   "outputs": [],
   "source": [
    "def get_rstrd_plyr_to_fm_df(plyr_trns_df, trns_df):\n",
    "    merged_trns_df = plyr_trns_df.merge(trns_df[trns_df.trns_status == 'complete'], how='inner').sort_values(['roster_id', 'player_id', 'create_tms'])\n",
    "    merged_trns_df['plyr_actn_rnk'] = merged_trns_df.groupby(['player_id', 'roster_id'])['create_tms'].rank(ascending=True)\n",
    "    merged_trns_df.loc[merged_trns_df.add_drop == 'add', 'merge_on_actn_rnk'] = merged_trns_df.plyr_actn_rnk + 1\n",
    "    merged_trns_df.drop(['trns_id', 'create_tms', 'trns_status'], axis=1, inplace=True)\n",
    "    merged_trns_df = merged_trns_df.merge(merged_trns_df, left_on=['merge_on_actn_rnk', 'player_id', 'roster_id'], right_on=['plyr_actn_rnk', 'player_id', 'roster_id'], how='left')\n",
    "    merged_trns_df = merged_trns_df[merged_trns_df.add_drop_x == 'add']\n",
    "    merged_trns_df = merged_trns_df.rename({\n",
    "        'week_x' : 'week_fm'\n",
    "        ,'week_y' : 'week_to'\n",
    "        ,'trns_typ_x' : 'add_action'\n",
    "        ,'trns_typ_y' : 'drop_action'\n",
    "    }, axis=1).drop(['add_drop_x', 'add_drop_y', 'plyr_actn_rnk_x', 'plyr_actn_rnk_y', 'merge_on_actn_rnk_x', 'merge_on_actn_rnk_y'], axis=1)\n",
    "    merged_trns_df['week_to'] = merged_trns_df.week_to.fillna(league_info['playoff_start_week']).astype('int')\n",
    "    return merged_trns_df[(merged_trns_df.add_action != 'commissioner') | (merged_trns_df.week_fm != 1)][['roster_id', 'player_id', 'add_action', 'drop_action', 'week_fm', 'week_to']]"
   ]
  },
  {
   "cell_type": "code",
   "execution_count": 25,
   "metadata": {},
   "outputs": [],
   "source": [
    "rstrd_plyr_to_fm_df = get_rstrd_plyr_to_fm_df(plyr_trns_df, trns_df)"
   ]
  },
  {
   "cell_type": "code",
   "execution_count": 208,
   "metadata": {},
   "outputs": [],
   "source": [
    "def get_waiver_scores_df(rstrd_plyr_to_fm_df, plyr_points_df):\n",
    "    return ps.sqldf(\"\"\"\n",
    "    SELECT\n",
    "        rdf.display_name\n",
    "        ,pdf.first_name\n",
    "        ,pdf.last_name\n",
    "        ,ppdf.player_id\n",
    "        ,Sum(ppdf.points) AS ttl_points\n",
    "        ,count(ppdf.week) AS wks_strtd\n",
    "        ,Sum(ppdf.points) / Count(ppdf.week) AS avg_strt_pts\n",
    "        FROM plyr_points_df ppdf\n",
    "        INNER JOIN rstrd_plyr_to_fm_df rpdf\n",
    "            ON rpdf.player_id = ppdf.player_id\n",
    "            AND rpdf.roster_id = ppdf.roster_id\n",
    "            AND ppdf.week >= rpdf.week_fm\n",
    "            AND ppdf.week < rpdf.week_to\n",
    "        INNER JOIN rosters_df rdf\n",
    "            ON rdf.roster_id = rpdf.roster_id\n",
    "        INNER JOIN plyr_df pdf\n",
    "            ON pdf.player_id = ppdf.player_id\n",
    "        WHERE 1=1\n",
    "            AND ppdf.is_starter = True\n",
    "            AND rpdf.drop_action IN ('waiver', 'free_agent')\n",
    "            AND rpdf.add_action IN ('waiver', 'free_agent')\n",
    "        GROUP BY 1,2\n",
    "    \"\"\")"
   ]
  },
  {
   "cell_type": "code",
   "execution_count": 224,
   "metadata": {},
   "outputs": [],
   "source": [
    "def get_wkly_matchup_results_df(matchups_df, rosters_df):\n",
    "    wk_median_df = pd.DataFrame(matchups_df.groupby(matchups_df.week)[['ttl_points']].median()).reset_index().rename({'ttl_points' : 'wk_median'}, axis=1)\n",
    "    return ps.sqldf(\"\"\"\n",
    "    SELECT\n",
    "        rdf.display_name\n",
    "        ,l.week\n",
    "        ,l.matchup_id\n",
    "        ,l.ttl_points AS pf\n",
    "        ,r.ttl_points AS pa\n",
    "        ,ABS(l.ttl_points - r.ttl_points) AS abs_pt_diff\n",
    "        ,wmdf.wk_median AS league_median\n",
    "        ,CASE\n",
    "            WHEN l.ttl_points > r.ttl_points\n",
    "                THEN 1\n",
    "            ELSE 0\n",
    "        END AS win\n",
    "        ,CASE\n",
    "            WHEN l.ttl_points < r.ttl_points\n",
    "                THEN 1\n",
    "            ELSE 0\n",
    "        END AS loss\n",
    "        ,CASE\n",
    "            WHEN l.ttl_points = r.ttl_points\n",
    "                THEN 1\n",
    "            ELSE 0\n",
    "        END AS tie\n",
    "        ,CASE\n",
    "            WHEN l.ttl_points > wmdf.wk_median\n",
    "                THEN 1\n",
    "            ELSE 0\n",
    "        END AS median_win\n",
    "        ,CASE\n",
    "            WHEN l.ttl_points < wmdf.wk_median\n",
    "                THEN 1\n",
    "            ELSE 0\n",
    "        END AS median_loss\n",
    "        ,CASE\n",
    "            WHEN l.ttl_points = wmdf.wk_median\n",
    "                THEN 1\n",
    "            ELSE 0\n",
    "        END AS median_tie\n",
    "        FROM matchups_df l\n",
    "        INNER JOIN matchups_df r\n",
    "            ON r.matchup_id = l.matchup_id\n",
    "            AND r.roster_id <> l.roster_id\n",
    "            AND r.week = l.week\n",
    "        INNER JOIN rosters_df rdf\n",
    "            ON rdf.roster_id = l.roster_id\n",
    "        INNER JOIN wk_median_df wmdf\n",
    "            ON wmdf.week = l.week\n",
    "    \"\"\")"
   ]
  },
  {
   "cell_type": "code",
   "execution_count": 225,
   "metadata": {},
   "outputs": [],
   "source": [
    "matchup_results_df = get_wkly_matchup_results_df(matchups_df, rosters_df)"
   ]
  },
  {
   "cell_type": "code",
   "execution_count": 29,
   "metadata": {},
   "outputs": [],
   "source": [
    "srtd_wins_df = matchup_results_df[matchup_results_df.win == 1].sort_values('abs_pt_diff', ascending=False)\n",
    "srtd_losses_df = matchup_results_df[matchup_results_df.loss == 1].sort_values('abs_pt_diff', ascending=False)"
   ]
  },
  {
   "cell_type": "code",
   "execution_count": 30,
   "metadata": {},
   "outputs": [],
   "source": [
    "median_results_df = matchup_results_df.groupby('display_name')[['pf', 'pa', 'win', 'loss', 'tie', 'median_win', 'median_loss', 'median_tie']].sum().reset_index()"
   ]
  },
  {
   "cell_type": "code",
   "execution_count": 47,
   "metadata": {},
   "outputs": [],
   "source": [
    "median_results_df['win_perc'] = (median_results_df.win + (median_results_df.tie / 2)) / (median_results_df.win + median_results_df.loss + median_results_df.tie)\n",
    "median_results_df['ttl_wins'] = median_results_df.win + median_results_df.median_win\n",
    "median_results_df['ttl_losses'] = median_results_df.loss + median_results_df.median_loss\n",
    "median_results_df['ttl_ties'] = median_results_df.tie + median_results_df.median_tie\n",
    "median_results_df['ttl_win_perc'] = (median_results_df.ttl_wins + (median_results_df.ttl_ties / 2)) / (median_results_df.ttl_wins + median_results_df.ttl_losses + median_results_df.ttl_ties)\n",
    "median_results_df['win_perc_diff'] = median_results_df.ttl_win_perc - median_results_df.win_perc"
   ]
  },
  {
   "cell_type": "code",
   "execution_count": 38,
   "metadata": {},
   "outputs": [],
   "source": [
    "rosterd_injuries = ps.sqldf(\"\"\"\n",
    "SELECT\n",
    "    rdf.display_name\n",
    "    ,pdf.player_id\n",
    "    ,idf.week\n",
    "    ,idf.team\n",
    "    FROM injuries_df idf\n",
    "    INNER JOIN plyr_df pdf\n",
    "        ON pdf.full_name = idf.full_name\n",
    "        AND pdf.team = idf.team\n",
    "    INNER JOIN rstrd_plyr_to_fm_df rptfdf\n",
    "        ON rptfdf.player_id = pdf.player_id\n",
    "        AND idf.week BETWEEN rptfdf.week_fm AND rptfdf.week_to\n",
    "    INNER JOIN rosters_df rdf\n",
    "        ON rdf.roster_id = rptfdf.roster_id\n",
    "\"\"\").drop_duplicates()"
   ]
  },
  {
   "cell_type": "code",
   "execution_count": null,
   "metadata": {},
   "outputs": [],
   "source": [
    "roster_pos_df = pd.DataFrame([{'position' : pos, 'cnt' : league_info['roster_slots'].count(pos)} for pos in set(league_info['roster_slots'])])"
   ]
  },
  {
   "cell_type": "code",
   "execution_count": 146,
   "metadata": {},
   "outputs": [],
   "source": [
    "wkly_plyr_scores_df = ps.sqldf(\"\"\"\n",
    "SELECT\n",
    "    ppdf.roster_id\n",
    "    ,pdf.player_id\n",
    "    ,ppdf.week\n",
    "    ,ppdf.points\n",
    "    ,pdf.position\n",
    "    ,RANK() OVER (PARTITION BY ppdf.roster_id, ppdf.week, pdf.position ORDER BY ppdf.points DESC) AS pos_rnk\n",
    "    ,rpdf.cnt AS pos_roster_slots\n",
    "    FROM plyr_points_df ppdf\n",
    "    INNER JOIN plyr_df pdf\n",
    "        ON pdf.player_id = ppdf.player_id\n",
    "    LEFT JOIN roster_pos_df rpdf\n",
    "        ON rpdf.position = pdf.position\n",
    "\"\"\")"
   ]
  },
  {
   "cell_type": "code",
   "execution_count": 148,
   "metadata": {},
   "outputs": [],
   "source": [
    "flex_rnk_df = ps.sqldf(f\"\"\" \n",
    "SELECT\n",
    "    roster_id\n",
    "    ,player_id\n",
    "    ,week\n",
    "    ,points\n",
    "    ,'FLEX' AS position\n",
    "    ,RANK() OVER (PARTITION BY roster_id, week ORDER BY points DESC) AS pos_rnk\n",
    "    ,rpdf.cnt AS pos_roster_slots\n",
    "    FROM wkly_plyr_scores_df wpsdf\n",
    "    LEFT JOIN roster_pos_df rpdf\n",
    "        ON rpdf.position = 'FLEX'\n",
    "    WHERE 1=1\n",
    "        AND pos_rnk > pos_roster_slots\n",
    "        AND wpsdf.position IN ('WR', 'RB', 'TE')\n",
    "\"\"\")"
   ]
  },
  {
   "cell_type": "code",
   "execution_count": 170,
   "metadata": {},
   "outputs": [],
   "source": [
    "max_wkly_points_df = ps.sqldf(\"\"\"\n",
    "SELECT\n",
    "    roster_id\n",
    "    ,week\n",
    "    ,ROUND(SUM(points), 2) as max_points\n",
    "    FROM\n",
    "        (SELECT\n",
    "            roster_id\n",
    "            ,week\n",
    "            ,points\n",
    "            FROM wkly_plyr_scores_df\n",
    "            WHERE 1=1\n",
    "                AND pos_rnk <= pos_roster_slots\n",
    "        UNION ALL\n",
    "        SELECT\n",
    "            roster_id\n",
    "            ,week\n",
    "            ,points\n",
    "            FROM flex_rnk_df\n",
    "            WHERE 1=1\n",
    "                AND pos_rnk <= pos_roster_slots\n",
    "        )\n",
    "    GROUP BY 1,2\n",
    "\"\"\")"
   ]
  },
  {
   "cell_type": "code",
   "execution_count": 171,
   "metadata": {},
   "outputs": [],
   "source": [
    "matchups_max_points_df = matchups_df.merge(max_wkly_points_df, how='inner', on=['roster_id', 'week'])"
   ]
  },
  {
   "cell_type": "code",
   "execution_count": 180,
   "metadata": {},
   "outputs": [],
   "source": [
    "matchups_max_points_df['point_diff'] = (matchups_max_points_df.max_points - matchups_max_points_df.ttl_points).round(2)\n",
    "matchups_max_points_df['strt_eff'] = matchups_max_points_df.ttl_points / matchups_max_points_df.max_points"
   ]
  },
  {
   "cell_type": "code",
   "execution_count": 210,
   "metadata": {},
   "outputs": [],
   "source": [
    "waiver_scores_df = get_waiver_scores_df(rstrd_plyr_to_fm_df, plyr_points_df)"
   ]
  },
  {
   "cell_type": "code",
   "execution_count": 313,
   "metadata": {},
   "outputs": [],
   "source": [
    "big_red_too_drunk_df = ps.sqldf(\"\"\"\n",
    "SELECT\n",
    "    l.week\n",
    "    ,l.display_name AS winner\n",
    "    ,l.pf AS winner_pf\n",
    "    ,r.display_name AS loser\n",
    "    ,r.pf AS loser_pf\n",
    "    ,l.abs_pt_diff\n",
    "    FROM matchup_results_df l\n",
    "    INNER JOIN matchup_results_df r\n",
    "        ON r.matchup_id = l.matchup_id\n",
    "        AND r.week = l.week\n",
    "        AND l.win = 1\n",
    "        AND r.loss = 1\n",
    "    ORDER BY 6 DESC\n",
    "\"\"\")"
   ]
  },
  {
   "cell_type": "code",
   "execution_count": 314,
   "metadata": {},
   "outputs": [],
   "source": [
    "break_it_df = big_red_too_drunk_df.sort_values(by='loser_pf', ascending=False).reset_index()"
   ]
  },
  {
   "cell_type": "code",
   "execution_count": 246,
   "metadata": {},
   "outputs": [],
   "source": [
    "chubby_df = matchup_results_df[matchup_results_df.win == 1].groupby('display_name')[['abs_pt_diff']].mean().sort_values(by='abs_pt_diff', ascending=False).reset_index()"
   ]
  },
  {
   "cell_type": "code",
   "execution_count": 257,
   "metadata": {},
   "outputs": [],
   "source": [
    "evil_on_me_df = rosterd_injuries.groupby(['display_name'])['player_id'].nunique().reset_index().sort_values(by='player_id', ascending=False).reset_index(drop=True)"
   ]
  },
  {
   "cell_type": "code",
   "execution_count": 297,
   "metadata": {},
   "outputs": [],
   "source": [
    "drive_with_your_heart_df = ps.sqldf(\"\"\"\n",
    "SELECT\n",
    "    display_name\n",
    "    ,ROUND(AVG(strt_eff), 4) AS avg_strt_eff\n",
    "    FROM matchups_max_points_df mmpdf\n",
    "    INNER JOIN rosters_df rdf\n",
    "        ON rdf.roster_id = mmpdf.roster_id\n",
    "    GROUP BY 1\n",
    "    ORDER BY 2 DESC\n",
    "\"\"\")"
   ]
  },
  {
   "cell_type": "code",
   "execution_count": 275,
   "metadata": {},
   "outputs": [],
   "source": [
    "hakuna_matata_df = matchup_results_df.groupby('display_name')['pf'].max().reset_index().sort_values(by='pf', ascending=False).reset_index(drop=True)"
   ]
  },
  {
   "cell_type": "code",
   "execution_count": 278,
   "metadata": {},
   "outputs": [],
   "source": [
    "ice_storm_df = matchup_results_df.groupby('display_name')['pa'].sum().reset_index().sort_values(by='pa', ascending=False)"
   ]
  },
  {
   "cell_type": "code",
   "execution_count": 294,
   "metadata": {},
   "outputs": [],
   "source": [
    "target_df = waiver_scores_df.sort_values(by='ttl_points', ascending=False)[['display_name', 'first_name', 'last_name', 'ttl_points', 'wks_strtd', 'avg_strt_pts']].reset_index(drop=True).round(2)"
   ]
  },
  {
   "cell_type": "code",
   "execution_count": 292,
   "metadata": {},
   "outputs": [],
   "source": [
    "excellence_df = matchup_results_df.groupby('display_name')['pf'].mean().reset_index().sort_values(by='pf', ascending=False).reset_index(drop=True).round(2)"
   ]
  },
  {
   "cell_type": "code",
   "execution_count": 299,
   "metadata": {},
   "outputs": [],
   "source": [
    "on_fire_df = rosters_df.sort_values(by='win_streak', ascending=False)[['display_name', 'win_streak']].reset_index(drop=True)"
   ]
  },
  {
   "cell_type": "code",
   "execution_count": 302,
   "metadata": {},
   "outputs": [],
   "source": [
    "ten_yo_df = get_rookie_starts_df(plyr_points_df, plyr_df, rosters_df)"
   ]
  },
  {
   "cell_type": "code",
   "execution_count": 304,
   "metadata": {},
   "outputs": [],
   "source": [
    "spider_monkey_df = matchup_results_df.groupby('display_name')['pf'].sum().reset_index().sort_values(by='pf', ascending=False).reset_index(drop=True)"
   ]
  },
  {
   "cell_type": "code",
   "execution_count": 308,
   "metadata": {},
   "outputs": [],
   "source": [
    "magic_man_df = matchup_results_df[matchup_results_df.win == 1].groupby('display_name')[['abs_pt_diff']].mean().sort_values(by='abs_pt_diff', ascending=True).reset_index()"
   ]
  },
  {
   "cell_type": "code",
   "execution_count": 310,
   "metadata": {},
   "outputs": [],
   "source": [
    "not_good_df = rosters_df.sort_values(by='loss_streak', ascending=False)[['display_name', 'loss_streak']].reset_index(drop=True)"
   ]
  },
  {
   "cell_type": "code",
   "execution_count": 320,
   "metadata": {},
   "outputs": [],
   "source": [
    "man_df = ps.sqldf(\"\"\"\n",
    "SELECT\n",
    "    rdf.display_name\n",
    "    ,AVG(pdf.years_exp) AS avg_strtr_yrs_exp\n",
    "    FROM plyr_points_df ppdf\n",
    "    INNER JOIN plyr_df pdf\n",
    "        ON pdf.player_id = ppdf.player_id\n",
    "        AND pdf.position <> 'DEF'\n",
    "    INNER JOIN rosters_df rdf\n",
    "        ON rdf.roster_id = ppdf.roster_id\n",
    "    WHERE 1=1\n",
    "        AND ppdf.is_starter = True\n",
    "    GROUP BY 1\n",
    "    ORDER BY 2 DESC\n",
    "\"\"\")"
   ]
  },
  {
   "cell_type": "code",
   "execution_count": 322,
   "metadata": {},
   "outputs": [],
   "source": [
    "wild_horses_df = matchup_results_df.groupby('display_name')['pf'].min().reset_index().sort_values(by='pf', ascending=True).reset_index(drop=True)"
   ]
  },
  {
   "cell_type": "code",
   "execution_count": 329,
   "metadata": {},
   "outputs": [],
   "source": [
    "median_results_df = ps.sqldf(\"\"\"\n",
    "SELECT\n",
    "    display_name\n",
    "    ,pf\n",
    "    ,pa\n",
    "    ,win\n",
    "    ,loss\n",
    "    ,tie\n",
    "    ,win_perc\n",
    "    ,RANK() OVER (ORDER BY win_perc DESC, pf DESC) AS rnk\n",
    "    ,median_win\n",
    "    ,median_loss\n",
    "    ,median_tie\n",
    "    ,ttl_wins\n",
    "    ,ttl_losses\n",
    "    ,ttl_ties\n",
    "    ,ttl_win_perc\n",
    "    ,RANK() OVER (ORDER BY ttl_win_perc DESC, pf DESC) AS ttl_rnk\n",
    "    ,win_perc_diff\n",
    "    ,RANK() OVER (ORDER BY win_perc DESC, pf DESC) - RANK() OVER (ORDER BY ttl_win_perc DESC, pf DESC) AS rnk_diff\n",
    "    FROM median_results_df\n",
    "\"\"\")"
   ]
  },
  {
   "cell_type": "code",
   "execution_count": null,
   "metadata": {},
   "outputs": [],
   "source": [
    "dfs = {\n",
    "    'blowout_win_loss' : big_red_too_drunk_df\n",
    "    ,'highest_avg_mov' : chubby_df\n",
    "    ,'injuries' : evil_on_me_df\n",
    "    ,'efficiency' : drive_with_your_heart_df\n",
    "    ,'highest_score_wks' : hakuna_matata_df\n",
    "    ,'pa' : ice_storm_df\n",
    "    ,'waiver_adds' : target_df\n",
    "    ,'avg_wkly_scores' : excellence_df\n",
    "    ,'win_streaks' : on_fire_df\n",
    "    ,'strtd_rookies' : ten_yo_df\n",
    "    ,'pf' : spider_monkey_df\n",
    "    ,'lowest_avg_mov' : magic_man_df\n",
    "    ,'loss_streaks' : not_good_df\n",
    "    ,'strtr_exp' : man_df\n",
    "    ,'lowest_score_wks' : wild_horses_df\n",
    "    ,'median_rcrds' : median_results_df\n",
    "}"
   ]
  }
 ],
 "metadata": {
  "kernelspec": {
   "display_name": "3.12.0",
   "language": "python",
   "name": "python3"
  },
  "language_info": {
   "codemirror_mode": {
    "name": "ipython",
    "version": 3
   },
   "file_extension": ".py",
   "mimetype": "text/x-python",
   "name": "python",
   "nbconvert_exporter": "python",
   "pygments_lexer": "ipython3",
   "version": "3.12.0"
  }
 },
 "nbformat": 4,
 "nbformat_minor": 2
}
